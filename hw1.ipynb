{
 "cells": [
  {
   "cell_type": "code",
   "execution_count": 35,
   "metadata": {
    "colab": {
     "base_uri": "https://localhost:8080/"
    },
    "executionInfo": {
     "elapsed": 974,
     "status": "ok",
     "timestamp": 1635685571045,
     "user": {
      "displayName": "Михайло Білий",
      "photoUrl": "https://lh3.googleusercontent.com/a-/AOh14GjNdOBo7kDAYGN3v7jJtH3k84Jpcug5m1WhyI5X=s64",
      "userId": "00350067261146295820"
     },
     "user_tz": -120
    },
    "id": "lcyi3dvQH8ZA",
    "outputId": "ff11d682-d262-4d98-9a9b-481ad25049ef"
   },
   "outputs": [
    {
     "name": "stdout",
     "output_type": "stream",
     "text": [
      "Populating the interactive namespace from numpy and matplotlib\n"
     ]
    },
    {
     "name": "stderr",
     "output_type": "stream",
     "text": [
      "/Users/misha_beliy/opt/anaconda3/lib/python3.7/site-packages/IPython/core/magics/pylab.py:160: UserWarning: pylab import has clobbered these variables: ['datetime']\n",
      "`%matplotlib` prevents importing * from pylab and numpy\n",
      "  \"\\n`%matplotlib` prevents importing * from pylab and numpy\"\n"
     ]
    }
   ],
   "source": [
    "import gc \n",
    "\n",
    "import pandas as pd\n",
    "import numpy as np\n",
    "import matplotlib.pyplot as plt\n",
    "import seaborn as sns\n",
    "\n",
    "\n",
    "from datetime import datetime\n",
    "from typing import Union, List\n",
    "\n",
    "from multiprocessing import Pool\n",
    "\n",
    "from sklearn.tree import DecisionTreeClassifier\n",
    "from sklearn.ensemble import RandomForestClassifier\n",
    "from sklearn.model_selection import train_test_split\n",
    "from sklearn.metrics import accuracy_score, confusion_matrix\n",
    "\n",
    "from lightgbm import LGBMClassifier\n",
    "\n",
    "\n",
    "%pylab inline"
   ]
  },
  {
   "cell_type": "code",
   "execution_count": 2,
   "metadata": {
    "executionInfo": {
     "elapsed": 292,
     "status": "ok",
     "timestamp": 1635685577906,
     "user": {
      "displayName": "Михайло Білий",
      "photoUrl": "https://lh3.googleusercontent.com/a-/AOh14GjNdOBo7kDAYGN3v7jJtH3k84Jpcug5m1WhyI5X=s64",
      "userId": "00350067261146295820"
     },
     "user_tz": -120
    },
    "id": "LV0d78sGJc2x"
   },
   "outputs": [],
   "source": [
    "PATH_TO_DATA_FOLDER = \"data/\"\n",
    "MOUNT_GDRIVE = False"
   ]
  },
  {
   "cell_type": "markdown",
   "metadata": {
    "id": "ehPNPqUTI46b"
   },
   "source": [
    "# [Optional] Mount google drive for google colab"
   ]
  },
  {
   "cell_type": "code",
   "execution_count": 63,
   "metadata": {
    "colab": {
     "base_uri": "https://localhost:8080/"
    },
    "executionInfo": {
     "elapsed": 28196,
     "status": "ok",
     "timestamp": 1635685607004,
     "user": {
      "displayName": "Михайло Білий",
      "photoUrl": "https://lh3.googleusercontent.com/a-/AOh14GjNdOBo7kDAYGN3v7jJtH3k84Jpcug5m1WhyI5X=s64",
      "userId": "00350067261146295820"
     },
     "user_tz": -120
    },
    "id": "q_YFrCrpIKV8",
    "outputId": "0ca32f70-7628-484c-e9f5-d2ab566a3a64"
   },
   "outputs": [],
   "source": [
    "if MOUNT_GDRIVE:\n",
    "    from google.colab import drive\n",
    "    PATH_TO_DATA_FOLDER = \"drive/MyDrive/4 курс/ML/HW-1/data/\"\n",
    "    drive.mount('/content/drive/')"
   ]
  },
  {
   "cell_type": "markdown",
   "metadata": {
    "id": "Uh-QO4fUH8ZF"
   },
   "source": [
    "# My implementation of RandomForestClassifier "
   ]
  },
  {
   "cell_type": "code",
   "execution_count": 4,
   "metadata": {
    "executionInfo": {
     "elapsed": 6,
     "status": "ok",
     "timestamp": 1635685613176,
     "user": {
      "displayName": "Михайло Білий",
      "photoUrl": "https://lh3.googleusercontent.com/a-/AOh14GjNdOBo7kDAYGN3v7jJtH3k84Jpcug5m1WhyI5X=s64",
      "userId": "00350067261146295820"
     },
     "user_tz": -120
    },
    "id": "-zXw9kzGH8ZG"
   },
   "outputs": [],
   "source": [
    "class MyRandomForestClassifier:\n",
    "    _base_model_class = DecisionTreeClassifier\n",
    "    \n",
    "    _default_base_model_params = {\n",
    "        \"criterion\": 'gini', \n",
    "        \"max_depth\": None, \n",
    "        \"min_samples_split\": 2, \n",
    "        \"min_samples_leaf\": 1, \n",
    "        \"min_weight_fraction_leaf\": 0.0, \n",
    "        \"max_features\": 'auto', \n",
    "        \"max_leaf_nodes\": None, \n",
    "        \"min_impurity_decrease\": 0.0, \n",
    "        \"min_impurity_split\": None,\n",
    "    }\n",
    "    \n",
    "    def __init__(\n",
    "        self,\n",
    "        n_estimators: int = 100,\n",
    "        bootstrap: bool = True,\n",
    "        random_state: Union[int, np.random.RandomState] = None,\n",
    "        max_samples: int = None,\n",
    "        base_model_params: dict = {},\n",
    "        threads: int = None,\n",
    "    ):\n",
    "        self._n_estimators = n_estimators\n",
    "        self._bootstrap = bootstrap\n",
    "        self._random_state = random_state\n",
    "        self._max_samples = max_samples\n",
    "        self._base_model_params = {**self._default_base_model_params, **base_model_params}\n",
    "        self._estimators: List[self._base_model_class] = []\n",
    "        self._data: pd.DataFrame = None\n",
    "        self._threads = threads\n",
    "        \n",
    "    def fit(self, x: pd.DataFrame, y: pd.Series):\n",
    "        self._set_random_state()\n",
    "        data = x.copy()\n",
    "        data[\"target\"] = y\n",
    "        self._data = data\n",
    "        if self._threads:\n",
    "            with Pool(self._threads) as pool:\n",
    "                self._estimators = pool.map(self._fit_one, range(self._n_estimators))\n",
    "        else:\n",
    "            self._estimators = [self._fit_one(i) for i in range(self._n_estimators)]\n",
    "    \n",
    "    def predict(self, x: pd.DataFrame) -> np.array:\n",
    "        proba = self.predict_proba(x)\n",
    "        predicted = proba.argmax(axis=1)\n",
    "        return predicted\n",
    "        \n",
    "    \n",
    "    def predict_proba(self, x: pd.DataFrame) -> np.ndarray:\n",
    "        probas = self._predict_probas(x)\n",
    "        proba = 0\n",
    "        for predicted in probas:\n",
    "            proba += predicted\n",
    "        proba /= len(probas)\n",
    "        return proba\n",
    "    \n",
    "    def _predict_probas(self, x: pd.DataFrame) -> list:\n",
    "        if self._threads:\n",
    "            with Pool(self._threads) as pool:\n",
    "                probas = pool.starmap(\n",
    "                    self._predict_one_proba, \n",
    "                    [(i, x) for i in range(self._n_estimators)]\n",
    "                )\n",
    "        else:\n",
    "            probas = [clf.predict_proba(x) for clf in self._estimators]\n",
    "        \n",
    "        return probas\n",
    "    \n",
    "    def _predict_one_proba(self, i: int, x: pd.DataFrame) -> np.ndarray:\n",
    "        return self._estimators[i].predict_proba(x)\n",
    "                        \n",
    "    def _set_random_state(self) -> None:\n",
    "        if self._random_state is None:\n",
    "            return\n",
    "        if isinstance(self._random_state, int):\n",
    "            np.random.seed(self._random_state)\n",
    "        elif isinstance(self._random_state, np.random.RandomState):\n",
    "            np.random.set_state(self._random_state)\n",
    "        else:\n",
    "            raise ValueError(f\"Invalid random state type: {type(self._random_state)}\")\n",
    "    \n",
    "    def _fit_one(self, i: int = None) -> _base_model_class:\n",
    "        classifier = self._base_model_class(**self._base_model_params)\n",
    "        data = self._get_samples(self._data)\n",
    "        x = data.drop(columns=\"target\")\n",
    "        classifier.fit(x, data[\"target\"])\n",
    "        return classifier\n",
    "        \n",
    "    \n",
    "    def _get_samples(self, data: pd.DataFrame) -> pd.DataFrame:\n",
    "        if not self._bootstrap:\n",
    "            return data\n",
    "        max_sample = self._max_samples\n",
    "        if max_sample is None:\n",
    "            max_sample = data.shape[0]\n",
    "        elif isinstance(max_sample, float):\n",
    "            max_sample = round(max_sample * data.shape[0])\n",
    "        return data.sample(max_sample)"
   ]
  },
  {
   "cell_type": "markdown",
   "metadata": {
    "id": "vJtEAkhlH8ZH"
   },
   "source": [
    "# Function to draw confusion matrix"
   ]
  },
  {
   "cell_type": "code",
   "execution_count": 5,
   "metadata": {
    "executionInfo": {
     "elapsed": 294,
     "status": "ok",
     "timestamp": 1635685615875,
     "user": {
      "displayName": "Михайло Білий",
      "photoUrl": "https://lh3.googleusercontent.com/a-/AOh14GjNdOBo7kDAYGN3v7jJtH3k84Jpcug5m1WhyI5X=s64",
      "userId": "00350067261146295820"
     },
     "user_tz": -120
    },
    "id": "HzGSIhOEH8ZI"
   },
   "outputs": [],
   "source": [
    "def make_confusion_matrix(cf,\n",
    "                          group_names=None,\n",
    "                          categories='auto',\n",
    "                          count=True,\n",
    "                          percent=True,\n",
    "                          cbar=True,\n",
    "                          xyticks=True,\n",
    "                          xyplotlabels=True,\n",
    "                          sum_stats=True,\n",
    "                          figsize=None,\n",
    "                          cmap='Blues',\n",
    "                          title=None):\n",
    "    '''\n",
    "    This function will make a pretty plot of an sklearn Confusion Matrix cm using a Seaborn heatmap visualization.\n",
    "    Arguments\n",
    "    ---------\n",
    "    cf:            confusion matrix to be passed in\n",
    "    group_names:   List of strings that represent the labels row by row to be shown in each square.\n",
    "    categories:    List of strings containing the categories to be displayed on the x,y axis. Default is 'auto'\n",
    "    count:         If True, show the raw number in the confusion matrix. Default is True.\n",
    "    normalize:     If True, show the proportions for each category. Default is True.\n",
    "    cbar:          If True, show the color bar. The cbar values are based off the values in the confusion matrix.\n",
    "                   Default is True.\n",
    "    xyticks:       If True, show x and y ticks. Default is True.\n",
    "    xyplotlabels:  If True, show 'True Label' and 'Predicted Label' on the figure. Default is True.\n",
    "    sum_stats:     If True, display summary statistics below the figure. Default is True.\n",
    "    figsize:       Tuple representing the figure size. Default will be the matplotlib rcParams value.\n",
    "    cmap:          Colormap of the values displayed from matplotlib.pyplot.cm. Default is 'Blues'\n",
    "                   See http://matplotlib.org/examples/color/colormaps_reference.html\n",
    "                   \n",
    "    title:         Title for the heatmap. Default is None.\n",
    "    '''\n",
    "\n",
    "\n",
    "    # CODE TO GENERATE TEXT INSIDE EACH SQUARE\n",
    "    blanks = ['' for i in range(cf.size)]\n",
    "\n",
    "    if group_names and len(group_names)==cf.size:\n",
    "        group_labels = [\"{}\\n\".format(value) for value in group_names]\n",
    "    else:\n",
    "        group_labels = blanks\n",
    "\n",
    "    if count:\n",
    "        group_counts = [\"{0:0.0f}\\n\".format(value) for value in cf.flatten()]\n",
    "    else:\n",
    "        group_counts = blanks\n",
    "\n",
    "    if percent:\n",
    "        group_percentages = [\"{0:.2%}\".format(value) for value in cf.flatten()/np.sum(cf)]\n",
    "    else:\n",
    "        group_percentages = blanks\n",
    "\n",
    "    box_labels = [f\"{v1}{v2}{v3}\".strip() for v1, v2, v3 in zip(group_labels,group_counts,group_percentages)]\n",
    "    box_labels = np.asarray(box_labels).reshape(cf.shape[0],cf.shape[1])\n",
    "\n",
    "\n",
    "    # CODE TO GENERATE SUMMARY STATISTICS & TEXT FOR SUMMARY STATS\n",
    "    if sum_stats:\n",
    "        #Accuracy is sum of diagonal divided by total observations\n",
    "        accuracy  = np.trace(cf) / float(np.sum(cf))\n",
    "\n",
    "        #if it is a binary confusion matrix, show some more stats\n",
    "        if len(cf)==2:\n",
    "            #Metrics for Binary Confusion Matrices\n",
    "            precision = cf[1,1] / sum(cf[:,1])\n",
    "            recall    = cf[1,1] / sum(cf[1,:])\n",
    "            f1_score  = 2*precision*recall / (precision + recall)\n",
    "            stats_text = \"\\n\\nAccuracy={:0.3f}\\nPrecision={:0.3f}\\nRecall={:0.3f}\\nF1 Score={:0.3f}\".format(\n",
    "                accuracy,precision,recall,f1_score)\n",
    "        else:\n",
    "            stats_text = \"\\n\\nAccuracy={:0.3f}\".format(accuracy)\n",
    "    else:\n",
    "        stats_text = \"\"\n",
    "\n",
    "\n",
    "    # SET FIGURE PARAMETERS ACCORDING TO OTHER ARGUMENTS\n",
    "    if figsize==None:\n",
    "        #Get default figure size if not set\n",
    "        figsize = plt.rcParams.get('figure.figsize')\n",
    "\n",
    "    if xyticks==False:\n",
    "        #Do not show categories if xyticks is False\n",
    "        categories=False\n",
    "\n",
    "\n",
    "    # MAKE THE HEATMAP VISUALIZATION\n",
    "    plt.figure(figsize=figsize)\n",
    "    sns.heatmap(cf,annot=box_labels,fmt=\"\",cmap=cmap,cbar=cbar,xticklabels=categories,yticklabels=categories)\n",
    "\n",
    "    if xyplotlabels:\n",
    "        plt.ylabel('True label')\n",
    "        plt.xlabel('Predicted label' + stats_text)\n",
    "    else:\n",
    "        plt.xlabel(stats_text)\n",
    "    \n",
    "    if title:\n",
    "        plt.title(title)"
   ]
  },
  {
   "cell_type": "markdown",
   "metadata": {
    "id": "RshgI7ddH8ZI"
   },
   "source": [
    "# Read data"
   ]
  },
  {
   "cell_type": "code",
   "execution_count": 6,
   "metadata": {
    "colab": {
     "base_uri": "https://localhost:8080/",
     "height": 301
    },
    "executionInfo": {
     "elapsed": 23125,
     "status": "ok",
     "timestamp": 1635685644818,
     "user": {
      "displayName": "Михайло Білий",
      "photoUrl": "https://lh3.googleusercontent.com/a-/AOh14GjNdOBo7kDAYGN3v7jJtH3k84Jpcug5m1WhyI5X=s64",
      "userId": "00350067261146295820"
     },
     "user_tz": -120
    },
    "id": "IXRPX8LOH8ZI",
    "outputId": "68662ba1-184e-459e-84ba-7b5e11395f1e"
   },
   "outputs": [
    {
     "name": "stdout",
     "output_type": "stream",
     "text": [
      "Shape: (957919, 119)\n"
     ]
    },
    {
     "data": {
      "text/html": [
       "<div>\n",
       "<style scoped>\n",
       "    .dataframe tbody tr th:only-of-type {\n",
       "        vertical-align: middle;\n",
       "    }\n",
       "\n",
       "    .dataframe tbody tr th {\n",
       "        vertical-align: top;\n",
       "    }\n",
       "\n",
       "    .dataframe thead th {\n",
       "        text-align: right;\n",
       "    }\n",
       "</style>\n",
       "<table border=\"1\" class=\"dataframe\">\n",
       "  <thead>\n",
       "    <tr style=\"text-align: right;\">\n",
       "      <th></th>\n",
       "      <th>f1</th>\n",
       "      <th>f2</th>\n",
       "      <th>f3</th>\n",
       "      <th>f4</th>\n",
       "      <th>f5</th>\n",
       "      <th>f6</th>\n",
       "      <th>f7</th>\n",
       "      <th>f8</th>\n",
       "      <th>f9</th>\n",
       "      <th>f10</th>\n",
       "      <th>...</th>\n",
       "      <th>f110</th>\n",
       "      <th>f111</th>\n",
       "      <th>f112</th>\n",
       "      <th>f113</th>\n",
       "      <th>f114</th>\n",
       "      <th>f115</th>\n",
       "      <th>f116</th>\n",
       "      <th>f117</th>\n",
       "      <th>f118</th>\n",
       "      <th>claim</th>\n",
       "    </tr>\n",
       "    <tr>\n",
       "      <th>id</th>\n",
       "      <th></th>\n",
       "      <th></th>\n",
       "      <th></th>\n",
       "      <th></th>\n",
       "      <th></th>\n",
       "      <th></th>\n",
       "      <th></th>\n",
       "      <th></th>\n",
       "      <th></th>\n",
       "      <th></th>\n",
       "      <th></th>\n",
       "      <th></th>\n",
       "      <th></th>\n",
       "      <th></th>\n",
       "      <th></th>\n",
       "      <th></th>\n",
       "      <th></th>\n",
       "      <th></th>\n",
       "      <th></th>\n",
       "      <th></th>\n",
       "      <th></th>\n",
       "    </tr>\n",
       "  </thead>\n",
       "  <tbody>\n",
       "    <tr>\n",
       "      <th>0</th>\n",
       "      <td>0.10859</td>\n",
       "      <td>0.004314</td>\n",
       "      <td>-37.566</td>\n",
       "      <td>0.017364</td>\n",
       "      <td>0.28915</td>\n",
       "      <td>-10.25100</td>\n",
       "      <td>135.12</td>\n",
       "      <td>168900.0</td>\n",
       "      <td>3.992400e+14</td>\n",
       "      <td>86.489</td>\n",
       "      <td>...</td>\n",
       "      <td>-12.2280</td>\n",
       "      <td>1.7482</td>\n",
       "      <td>1.90960</td>\n",
       "      <td>-7.11570</td>\n",
       "      <td>4378.80</td>\n",
       "      <td>1.2096</td>\n",
       "      <td>8.613400e+14</td>\n",
       "      <td>140.1</td>\n",
       "      <td>1.01770</td>\n",
       "      <td>1</td>\n",
       "    </tr>\n",
       "    <tr>\n",
       "      <th>1</th>\n",
       "      <td>0.10090</td>\n",
       "      <td>0.299610</td>\n",
       "      <td>11822.000</td>\n",
       "      <td>0.276500</td>\n",
       "      <td>0.45970</td>\n",
       "      <td>-0.83733</td>\n",
       "      <td>1721.90</td>\n",
       "      <td>119810.0</td>\n",
       "      <td>3.874100e+15</td>\n",
       "      <td>9953.600</td>\n",
       "      <td>...</td>\n",
       "      <td>-56.7580</td>\n",
       "      <td>4.1684</td>\n",
       "      <td>0.34808</td>\n",
       "      <td>4.14200</td>\n",
       "      <td>913.23</td>\n",
       "      <td>1.2464</td>\n",
       "      <td>7.575100e+15</td>\n",
       "      <td>1861.0</td>\n",
       "      <td>0.28359</td>\n",
       "      <td>0</td>\n",
       "    </tr>\n",
       "    <tr>\n",
       "      <th>2</th>\n",
       "      <td>0.17803</td>\n",
       "      <td>-0.006980</td>\n",
       "      <td>907.270</td>\n",
       "      <td>0.272140</td>\n",
       "      <td>0.45948</td>\n",
       "      <td>0.17327</td>\n",
       "      <td>2298.00</td>\n",
       "      <td>360650.0</td>\n",
       "      <td>1.224500e+13</td>\n",
       "      <td>15827.000</td>\n",
       "      <td>...</td>\n",
       "      <td>-5.7688</td>\n",
       "      <td>1.2042</td>\n",
       "      <td>0.26290</td>\n",
       "      <td>8.13120</td>\n",
       "      <td>45119.00</td>\n",
       "      <td>1.1764</td>\n",
       "      <td>3.218100e+14</td>\n",
       "      <td>3838.2</td>\n",
       "      <td>0.40690</td>\n",
       "      <td>1</td>\n",
       "    </tr>\n",
       "    <tr>\n",
       "      <th>3</th>\n",
       "      <td>0.15236</td>\n",
       "      <td>0.007259</td>\n",
       "      <td>780.100</td>\n",
       "      <td>0.025179</td>\n",
       "      <td>0.51947</td>\n",
       "      <td>7.49140</td>\n",
       "      <td>112.51</td>\n",
       "      <td>259490.0</td>\n",
       "      <td>7.781400e+13</td>\n",
       "      <td>-36.837</td>\n",
       "      <td>...</td>\n",
       "      <td>-34.8580</td>\n",
       "      <td>2.0694</td>\n",
       "      <td>0.79631</td>\n",
       "      <td>-16.33600</td>\n",
       "      <td>4952.40</td>\n",
       "      <td>1.1784</td>\n",
       "      <td>4.533000e+12</td>\n",
       "      <td>4889.1</td>\n",
       "      <td>0.51486</td>\n",
       "      <td>1</td>\n",
       "    </tr>\n",
       "    <tr>\n",
       "      <th>4</th>\n",
       "      <td>0.11623</td>\n",
       "      <td>0.502900</td>\n",
       "      <td>-109.150</td>\n",
       "      <td>0.297910</td>\n",
       "      <td>0.34490</td>\n",
       "      <td>-0.40932</td>\n",
       "      <td>2538.90</td>\n",
       "      <td>65332.0</td>\n",
       "      <td>1.907200e+15</td>\n",
       "      <td>144.120</td>\n",
       "      <td>...</td>\n",
       "      <td>-13.6410</td>\n",
       "      <td>1.5298</td>\n",
       "      <td>1.14640</td>\n",
       "      <td>-0.43124</td>\n",
       "      <td>3856.50</td>\n",
       "      <td>1.4830</td>\n",
       "      <td>-8.991300e+12</td>\n",
       "      <td>NaN</td>\n",
       "      <td>0.23049</td>\n",
       "      <td>1</td>\n",
       "    </tr>\n",
       "  </tbody>\n",
       "</table>\n",
       "<p>5 rows × 119 columns</p>\n",
       "</div>"
      ],
      "text/plain": [
       "         f1        f2         f3        f4       f5        f6       f7  \\\n",
       "id                                                                       \n",
       "0   0.10859  0.004314    -37.566  0.017364  0.28915 -10.25100   135.12   \n",
       "1   0.10090  0.299610  11822.000  0.276500  0.45970  -0.83733  1721.90   \n",
       "2   0.17803 -0.006980    907.270  0.272140  0.45948   0.17327  2298.00   \n",
       "3   0.15236  0.007259    780.100  0.025179  0.51947   7.49140   112.51   \n",
       "4   0.11623  0.502900   -109.150  0.297910  0.34490  -0.40932  2538.90   \n",
       "\n",
       "          f8            f9        f10  ...     f110    f111     f112  \\\n",
       "id                                     ...                             \n",
       "0   168900.0  3.992400e+14     86.489  ... -12.2280  1.7482  1.90960   \n",
       "1   119810.0  3.874100e+15   9953.600  ... -56.7580  4.1684  0.34808   \n",
       "2   360650.0  1.224500e+13  15827.000  ...  -5.7688  1.2042  0.26290   \n",
       "3   259490.0  7.781400e+13    -36.837  ... -34.8580  2.0694  0.79631   \n",
       "4    65332.0  1.907200e+15    144.120  ... -13.6410  1.5298  1.14640   \n",
       "\n",
       "        f113      f114    f115          f116    f117     f118  claim  \n",
       "id                                                                    \n",
       "0   -7.11570   4378.80  1.2096  8.613400e+14   140.1  1.01770      1  \n",
       "1    4.14200    913.23  1.2464  7.575100e+15  1861.0  0.28359      0  \n",
       "2    8.13120  45119.00  1.1764  3.218100e+14  3838.2  0.40690      1  \n",
       "3  -16.33600   4952.40  1.1784  4.533000e+12  4889.1  0.51486      1  \n",
       "4   -0.43124   3856.50  1.4830 -8.991300e+12     NaN  0.23049      1  \n",
       "\n",
       "[5 rows x 119 columns]"
      ]
     },
     "execution_count": 6,
     "metadata": {},
     "output_type": "execute_result"
    }
   ],
   "source": [
    "df = pd.read_csv(f\"{PATH_TO_DATA_FOLDER}train.csv\", index_col=\"id\")\n",
    "print(\"Shape:\", df.shape)\n",
    "df.head()"
   ]
  },
  {
   "cell_type": "markdown",
   "metadata": {
    "id": "ec5ZmuOwH8ZJ"
   },
   "source": [
    "## Check NA"
   ]
  },
  {
   "cell_type": "code",
   "execution_count": 7,
   "metadata": {
    "colab": {
     "base_uri": "https://localhost:8080/",
     "height": 436
    },
    "executionInfo": {
     "elapsed": 679,
     "status": "ok",
     "timestamp": 1635685752221,
     "user": {
      "displayName": "Михайло Білий",
      "photoUrl": "https://lh3.googleusercontent.com/a-/AOh14GjNdOBo7kDAYGN3v7jJtH3k84Jpcug5m1WhyI5X=s64",
      "userId": "00350067261146295820"
     },
     "user_tz": -120
    },
    "id": "pkwKytm1H8ZJ",
    "outputId": "ac5551c5-d2b1-46bf-ef93-00e0ffbfba52"
   },
   "outputs": [
    {
     "name": "stdout",
     "output_type": "stream",
     "text": [
      "NA:\n"
     ]
    },
    {
     "data": {
      "text/html": [
       "<div>\n",
       "<style scoped>\n",
       "    .dataframe tbody tr th:only-of-type {\n",
       "        vertical-align: middle;\n",
       "    }\n",
       "\n",
       "    .dataframe tbody tr th {\n",
       "        vertical-align: top;\n",
       "    }\n",
       "\n",
       "    .dataframe thead th {\n",
       "        text-align: right;\n",
       "    }\n",
       "</style>\n",
       "<table border=\"1\" class=\"dataframe\">\n",
       "  <thead>\n",
       "    <tr style=\"text-align: right;\">\n",
       "      <th></th>\n",
       "      <th>0</th>\n",
       "    </tr>\n",
       "  </thead>\n",
       "  <tbody>\n",
       "    <tr>\n",
       "      <th>f1</th>\n",
       "      <td>15247</td>\n",
       "    </tr>\n",
       "    <tr>\n",
       "      <th>f2</th>\n",
       "      <td>15190</td>\n",
       "    </tr>\n",
       "    <tr>\n",
       "      <th>f3</th>\n",
       "      <td>15491</td>\n",
       "    </tr>\n",
       "    <tr>\n",
       "      <th>f4</th>\n",
       "      <td>15560</td>\n",
       "    </tr>\n",
       "    <tr>\n",
       "      <th>f5</th>\n",
       "      <td>15405</td>\n",
       "    </tr>\n",
       "    <tr>\n",
       "      <th>...</th>\n",
       "      <td>...</td>\n",
       "    </tr>\n",
       "    <tr>\n",
       "      <th>f115</th>\n",
       "      <td>15559</td>\n",
       "    </tr>\n",
       "    <tr>\n",
       "      <th>f116</th>\n",
       "      <td>15589</td>\n",
       "    </tr>\n",
       "    <tr>\n",
       "      <th>f117</th>\n",
       "      <td>15407</td>\n",
       "    </tr>\n",
       "    <tr>\n",
       "      <th>f118</th>\n",
       "      <td>15212</td>\n",
       "    </tr>\n",
       "    <tr>\n",
       "      <th>claim</th>\n",
       "      <td>0</td>\n",
       "    </tr>\n",
       "  </tbody>\n",
       "</table>\n",
       "<p>119 rows × 1 columns</p>\n",
       "</div>"
      ],
      "text/plain": [
       "           0\n",
       "f1     15247\n",
       "f2     15190\n",
       "f3     15491\n",
       "f4     15560\n",
       "f5     15405\n",
       "...      ...\n",
       "f115   15559\n",
       "f116   15589\n",
       "f117   15407\n",
       "f118   15212\n",
       "claim      0\n",
       "\n",
       "[119 rows x 1 columns]"
      ]
     },
     "execution_count": 7,
     "metadata": {},
     "output_type": "execute_result"
    }
   ],
   "source": [
    "print(\"NA:\")\n",
    "pd.DataFrame(df.isna().sum())"
   ]
  },
  {
   "cell_type": "code",
   "execution_count": 8,
   "metadata": {
    "colab": {
     "base_uri": "https://localhost:8080/"
    },
    "executionInfo": {
     "elapsed": 312,
     "status": "ok",
     "timestamp": 1635686011881,
     "user": {
      "displayName": "Михайло Білий",
      "photoUrl": "https://lh3.googleusercontent.com/a-/AOh14GjNdOBo7kDAYGN3v7jJtH3k84Jpcug5m1WhyI5X=s64",
      "userId": "00350067261146295820"
     },
     "user_tz": -120
    },
    "id": "vDYw-F8Vdhw8",
    "outputId": "7ccc5659-4179-4864-e0fe-6c8a31366aa0"
   },
   "outputs": [
    {
     "name": "stdout",
     "output_type": "stream",
     "text": [
      "<class 'pandas.core.frame.DataFrame'>\n",
      "Int64Index: 957919 entries, 0 to 957918\n",
      "Columns: 119 entries, f1 to claim\n",
      "dtypes: float64(118), int64(1)\n",
      "memory usage: 877.0 MB\n"
     ]
    }
   ],
   "source": [
    "df.info()"
   ]
  },
  {
   "cell_type": "code",
   "execution_count": 9,
   "metadata": {
    "colab": {
     "base_uri": "https://localhost:8080/",
     "height": 346
    },
    "executionInfo": {
     "elapsed": 5394,
     "status": "ok",
     "timestamp": 1635685651588,
     "user": {
      "displayName": "Михайло Білий",
      "photoUrl": "https://lh3.googleusercontent.com/a-/AOh14GjNdOBo7kDAYGN3v7jJtH3k84Jpcug5m1WhyI5X=s64",
      "userId": "00350067261146295820"
     },
     "user_tz": -120
    },
    "id": "NWIv_D4xH8ZK",
    "outputId": "fdca7389-6a7b-4215-ea59-a02cdfb2f3e3"
   },
   "outputs": [
    {
     "data": {
      "text/html": [
       "<div>\n",
       "<style scoped>\n",
       "    .dataframe tbody tr th:only-of-type {\n",
       "        vertical-align: middle;\n",
       "    }\n",
       "\n",
       "    .dataframe tbody tr th {\n",
       "        vertical-align: top;\n",
       "    }\n",
       "\n",
       "    .dataframe thead th {\n",
       "        text-align: right;\n",
       "    }\n",
       "</style>\n",
       "<table border=\"1\" class=\"dataframe\">\n",
       "  <thead>\n",
       "    <tr style=\"text-align: right;\">\n",
       "      <th></th>\n",
       "      <th>f1</th>\n",
       "      <th>f2</th>\n",
       "      <th>f3</th>\n",
       "      <th>f4</th>\n",
       "      <th>f5</th>\n",
       "      <th>f6</th>\n",
       "      <th>f7</th>\n",
       "      <th>f8</th>\n",
       "      <th>f9</th>\n",
       "      <th>f10</th>\n",
       "      <th>...</th>\n",
       "      <th>f110</th>\n",
       "      <th>f111</th>\n",
       "      <th>f112</th>\n",
       "      <th>f113</th>\n",
       "      <th>f114</th>\n",
       "      <th>f115</th>\n",
       "      <th>f116</th>\n",
       "      <th>f117</th>\n",
       "      <th>f118</th>\n",
       "      <th>claim</th>\n",
       "    </tr>\n",
       "  </thead>\n",
       "  <tbody>\n",
       "    <tr>\n",
       "      <th>count</th>\n",
       "      <td>942672.000000</td>\n",
       "      <td>942729.000000</td>\n",
       "      <td>942428.000000</td>\n",
       "      <td>942359.000000</td>\n",
       "      <td>942514.000000</td>\n",
       "      <td>942398.000000</td>\n",
       "      <td>942415.000000</td>\n",
       "      <td>9.425460e+05</td>\n",
       "      <td>9.426700e+05</td>\n",
       "      <td>942696.000000</td>\n",
       "      <td>...</td>\n",
       "      <td>942554.000000</td>\n",
       "      <td>942420.000000</td>\n",
       "      <td>942509.000000</td>\n",
       "      <td>942686.000000</td>\n",
       "      <td>942481.000000</td>\n",
       "      <td>942360.000000</td>\n",
       "      <td>9.423300e+05</td>\n",
       "      <td>942512.000000</td>\n",
       "      <td>942707.000000</td>\n",
       "      <td>957919.000000</td>\n",
       "    </tr>\n",
       "    <tr>\n",
       "      <th>mean</th>\n",
       "      <td>0.090201</td>\n",
       "      <td>0.345964</td>\n",
       "      <td>4068.744207</td>\n",
       "      <td>0.201214</td>\n",
       "      <td>0.304869</td>\n",
       "      <td>-0.071458</td>\n",
       "      <td>1620.843815</td>\n",
       "      <td>3.771642e+05</td>\n",
       "      <td>1.806054e+15</td>\n",
       "      <td>5323.442367</td>\n",
       "      <td>...</td>\n",
       "      <td>-19.926398</td>\n",
       "      <td>2.074530</td>\n",
       "      <td>23.885245</td>\n",
       "      <td>1.748777</td>\n",
       "      <td>63152.973540</td>\n",
       "      <td>1.208876</td>\n",
       "      <td>4.276905e+16</td>\n",
       "      <td>3959.204669</td>\n",
       "      <td>0.559267</td>\n",
       "      <td>0.498492</td>\n",
       "    </tr>\n",
       "    <tr>\n",
       "      <th>std</th>\n",
       "      <td>0.043564</td>\n",
       "      <td>0.146251</td>\n",
       "      <td>6415.829440</td>\n",
       "      <td>0.212510</td>\n",
       "      <td>0.145343</td>\n",
       "      <td>2.123777</td>\n",
       "      <td>1276.281403</td>\n",
       "      <td>3.454325e+05</td>\n",
       "      <td>2.335204e+15</td>\n",
       "      <td>10068.380032</td>\n",
       "      <td>...</td>\n",
       "      <td>18.578439</td>\n",
       "      <td>0.895793</td>\n",
       "      <td>45.581360</td>\n",
       "      <td>10.088848</td>\n",
       "      <td>92435.016241</td>\n",
       "      <td>0.114959</td>\n",
       "      <td>6.732441e+16</td>\n",
       "      <td>3155.991777</td>\n",
       "      <td>0.408426</td>\n",
       "      <td>0.499998</td>\n",
       "    </tr>\n",
       "    <tr>\n",
       "      <th>min</th>\n",
       "      <td>-0.149910</td>\n",
       "      <td>-0.019044</td>\n",
       "      <td>-9421.700000</td>\n",
       "      <td>-0.082122</td>\n",
       "      <td>-0.006990</td>\n",
       "      <td>-12.791000</td>\n",
       "      <td>-224.800000</td>\n",
       "      <td>-2.984300e+04</td>\n",
       "      <td>-1.153300e+15</td>\n",
       "      <td>-26404.000000</td>\n",
       "      <td>...</td>\n",
       "      <td>-105.860000</td>\n",
       "      <td>0.277040</td>\n",
       "      <td>-27.691000</td>\n",
       "      <td>-26.589000</td>\n",
       "      <td>-81977.000000</td>\n",
       "      <td>0.905270</td>\n",
       "      <td>-8.944400e+15</td>\n",
       "      <td>-415.240000</td>\n",
       "      <td>-0.151240</td>\n",
       "      <td>0.000000</td>\n",
       "    </tr>\n",
       "    <tr>\n",
       "      <th>25%</th>\n",
       "      <td>0.070227</td>\n",
       "      <td>0.283050</td>\n",
       "      <td>418.430000</td>\n",
       "      <td>0.035086</td>\n",
       "      <td>0.240520</td>\n",
       "      <td>-1.120700</td>\n",
       "      <td>481.545000</td>\n",
       "      <td>9.120900e+04</td>\n",
       "      <td>1.153100e+13</td>\n",
       "      <td>75.876750</td>\n",
       "      <td>...</td>\n",
       "      <td>-28.812000</td>\n",
       "      <td>1.487700</td>\n",
       "      <td>-0.628880</td>\n",
       "      <td>-4.473975</td>\n",
       "      <td>2443.200000</td>\n",
       "      <td>1.146800</td>\n",
       "      <td>2.321100e+14</td>\n",
       "      <td>1306.200000</td>\n",
       "      <td>0.276560</td>\n",
       "      <td>0.000000</td>\n",
       "    </tr>\n",
       "    <tr>\n",
       "      <th>50%</th>\n",
       "      <td>0.090135</td>\n",
       "      <td>0.389100</td>\n",
       "      <td>1279.500000</td>\n",
       "      <td>0.137000</td>\n",
       "      <td>0.327790</td>\n",
       "      <td>-0.380110</td>\n",
       "      <td>1446.100000</td>\n",
       "      <td>2.896700e+05</td>\n",
       "      <td>5.043050e+14</td>\n",
       "      <td>1073.200000</td>\n",
       "      <td>...</td>\n",
       "      <td>-14.636000</td>\n",
       "      <td>1.662100</td>\n",
       "      <td>1.727700</td>\n",
       "      <td>0.885710</td>\n",
       "      <td>19479.000000</td>\n",
       "      <td>1.177200</td>\n",
       "      <td>1.327500e+16</td>\n",
       "      <td>3228.000000</td>\n",
       "      <td>0.473440</td>\n",
       "      <td>0.000000</td>\n",
       "    </tr>\n",
       "    <tr>\n",
       "      <th>75%</th>\n",
       "      <td>0.116500</td>\n",
       "      <td>0.458450</td>\n",
       "      <td>4444.400000</td>\n",
       "      <td>0.297100</td>\n",
       "      <td>0.412830</td>\n",
       "      <td>0.921940</td>\n",
       "      <td>2495.900000</td>\n",
       "      <td>5.605600e+05</td>\n",
       "      <td>3.103100e+15</td>\n",
       "      <td>5693.200000</td>\n",
       "      <td>...</td>\n",
       "      <td>-5.325300</td>\n",
       "      <td>2.522325</td>\n",
       "      <td>18.991000</td>\n",
       "      <td>6.840775</td>\n",
       "      <td>88488.000000</td>\n",
       "      <td>1.242000</td>\n",
       "      <td>5.278700e+16</td>\n",
       "      <td>6137.900000</td>\n",
       "      <td>0.746210</td>\n",
       "      <td>1.000000</td>\n",
       "    </tr>\n",
       "    <tr>\n",
       "      <th>max</th>\n",
       "      <td>0.415170</td>\n",
       "      <td>0.518990</td>\n",
       "      <td>39544.000000</td>\n",
       "      <td>1.319900</td>\n",
       "      <td>0.554750</td>\n",
       "      <td>11.202000</td>\n",
       "      <td>5426.600000</td>\n",
       "      <td>1.913700e+06</td>\n",
       "      <td>1.042400e+16</td>\n",
       "      <td>85622.000000</td>\n",
       "      <td>...</td>\n",
       "      <td>1.613400</td>\n",
       "      <td>4.565900</td>\n",
       "      <td>217.840000</td>\n",
       "      <td>47.757000</td>\n",
       "      <td>526050.000000</td>\n",
       "      <td>1.886700</td>\n",
       "      <td>3.249900e+17</td>\n",
       "      <td>13151.000000</td>\n",
       "      <td>2.743600</td>\n",
       "      <td>1.000000</td>\n",
       "    </tr>\n",
       "  </tbody>\n",
       "</table>\n",
       "<p>8 rows × 119 columns</p>\n",
       "</div>"
      ],
      "text/plain": [
       "                  f1             f2             f3             f4  \\\n",
       "count  942672.000000  942729.000000  942428.000000  942359.000000   \n",
       "mean        0.090201       0.345964    4068.744207       0.201214   \n",
       "std         0.043564       0.146251    6415.829440       0.212510   \n",
       "min        -0.149910      -0.019044   -9421.700000      -0.082122   \n",
       "25%         0.070227       0.283050     418.430000       0.035086   \n",
       "50%         0.090135       0.389100    1279.500000       0.137000   \n",
       "75%         0.116500       0.458450    4444.400000       0.297100   \n",
       "max         0.415170       0.518990   39544.000000       1.319900   \n",
       "\n",
       "                  f5             f6             f7            f8  \\\n",
       "count  942514.000000  942398.000000  942415.000000  9.425460e+05   \n",
       "mean        0.304869      -0.071458    1620.843815  3.771642e+05   \n",
       "std         0.145343       2.123777    1276.281403  3.454325e+05   \n",
       "min        -0.006990     -12.791000    -224.800000 -2.984300e+04   \n",
       "25%         0.240520      -1.120700     481.545000  9.120900e+04   \n",
       "50%         0.327790      -0.380110    1446.100000  2.896700e+05   \n",
       "75%         0.412830       0.921940    2495.900000  5.605600e+05   \n",
       "max         0.554750      11.202000    5426.600000  1.913700e+06   \n",
       "\n",
       "                 f9            f10  ...           f110           f111  \\\n",
       "count  9.426700e+05  942696.000000  ...  942554.000000  942420.000000   \n",
       "mean   1.806054e+15    5323.442367  ...     -19.926398       2.074530   \n",
       "std    2.335204e+15   10068.380032  ...      18.578439       0.895793   \n",
       "min   -1.153300e+15  -26404.000000  ...    -105.860000       0.277040   \n",
       "25%    1.153100e+13      75.876750  ...     -28.812000       1.487700   \n",
       "50%    5.043050e+14    1073.200000  ...     -14.636000       1.662100   \n",
       "75%    3.103100e+15    5693.200000  ...      -5.325300       2.522325   \n",
       "max    1.042400e+16   85622.000000  ...       1.613400       4.565900   \n",
       "\n",
       "                f112           f113           f114           f115  \\\n",
       "count  942509.000000  942686.000000  942481.000000  942360.000000   \n",
       "mean       23.885245       1.748777   63152.973540       1.208876   \n",
       "std        45.581360      10.088848   92435.016241       0.114959   \n",
       "min       -27.691000     -26.589000  -81977.000000       0.905270   \n",
       "25%        -0.628880      -4.473975    2443.200000       1.146800   \n",
       "50%         1.727700       0.885710   19479.000000       1.177200   \n",
       "75%        18.991000       6.840775   88488.000000       1.242000   \n",
       "max       217.840000      47.757000  526050.000000       1.886700   \n",
       "\n",
       "               f116           f117           f118          claim  \n",
       "count  9.423300e+05  942512.000000  942707.000000  957919.000000  \n",
       "mean   4.276905e+16    3959.204669       0.559267       0.498492  \n",
       "std    6.732441e+16    3155.991777       0.408426       0.499998  \n",
       "min   -8.944400e+15    -415.240000      -0.151240       0.000000  \n",
       "25%    2.321100e+14    1306.200000       0.276560       0.000000  \n",
       "50%    1.327500e+16    3228.000000       0.473440       0.000000  \n",
       "75%    5.278700e+16    6137.900000       0.746210       1.000000  \n",
       "max    3.249900e+17   13151.000000       2.743600       1.000000  \n",
       "\n",
       "[8 rows x 119 columns]"
      ]
     },
     "execution_count": 9,
     "metadata": {},
     "output_type": "execute_result"
    }
   ],
   "source": [
    "df.describe()"
   ]
  },
  {
   "cell_type": "markdown",
   "metadata": {
    "id": "J90Ehm5SeA_2"
   },
   "source": [
    "# Feature engineering"
   ]
  },
  {
   "cell_type": "code",
   "execution_count": 10,
   "metadata": {
    "executionInfo": {
     "elapsed": 812,
     "status": "ok",
     "timestamp": 1635685966902,
     "user": {
      "displayName": "Михайло Білий",
      "photoUrl": "https://lh3.googleusercontent.com/a-/AOh14GjNdOBo7kDAYGN3v7jJtH3k84Jpcug5m1WhyI5X=s64",
      "userId": "00350067261146295820"
     },
     "user_tz": -120
    },
    "id": "qbovZJb3eE7S"
   },
   "outputs": [],
   "source": [
    "def feature_engineering(df):\n",
    "    df['missing_num'] = df.isnull().sum(axis=1)\n",
    "    df['neg_num'] = (df < 0).sum(axis=1)\n",
    "    df['missing_sign'] = (df['missing_num'] != 0).astype(int)\n",
    "\n",
    "feature_engineering(df)"
   ]
  },
  {
   "cell_type": "markdown",
   "metadata": {
    "id": "7UvRNO5rH8ZK"
   },
   "source": [
    "## Fill NA"
   ]
  },
  {
   "cell_type": "code",
   "execution_count": 11,
   "metadata": {
    "colab": {
     "base_uri": "https://localhost:8080/"
    },
    "executionInfo": {
     "elapsed": 812,
     "status": "ok",
     "timestamp": 1635686052163,
     "user": {
      "displayName": "Михайло Білий",
      "photoUrl": "https://lh3.googleusercontent.com/a-/AOh14GjNdOBo7kDAYGN3v7jJtH3k84Jpcug5m1WhyI5X=s64",
      "userId": "00350067261146295820"
     },
     "user_tz": -120
    },
    "id": "SoZwOJHJH8ZK",
    "outputId": "eaaabc6b-feaf-45c5-936a-db05f2f3f429"
   },
   "outputs": [
    {
     "name": "stdout",
     "output_type": "stream",
     "text": [
      "Shape: (957919, 122)\n"
     ]
    }
   ],
   "source": [
    "df.fillna(df.mean(), inplace=True)\n",
    "print(\"Shape:\", df.shape)"
   ]
  },
  {
   "cell_type": "code",
   "execution_count": 12,
   "metadata": {},
   "outputs": [],
   "source": [
    "def preprocess(df):\n",
    "    feature_engineering(df)\n",
    "    df.fillna(df.mean(), inplace=True)"
   ]
  },
  {
   "cell_type": "markdown",
   "metadata": {
    "id": "Pt0SIf24Zjjx"
   },
   "source": [
    "# Drop NA"
   ]
  },
  {
   "cell_type": "code",
   "execution_count": 13,
   "metadata": {
    "colab": {
     "base_uri": "https://localhost:8080/"
    },
    "executionInfo": {
     "elapsed": 708,
     "status": "ok",
     "timestamp": 1635686064566,
     "user": {
      "displayName": "Михайло Білий",
      "photoUrl": "https://lh3.googleusercontent.com/a-/AOh14GjNdOBo7kDAYGN3v7jJtH3k84Jpcug5m1WhyI5X=s64",
      "userId": "00350067261146295820"
     },
     "user_tz": -120
    },
    "id": "RxNGy5fXZeMt",
    "outputId": "130b7835-4f33-4576-fdee-b5ba5582eb13"
   },
   "outputs": [
    {
     "data": {
      "text/plain": [
       "(957919, 122)"
      ]
     },
     "execution_count": 13,
     "metadata": {},
     "output_type": "execute_result"
    }
   ],
   "source": [
    "df.dropna(inplace=True)\n",
    "df.shape"
   ]
  },
  {
   "cell_type": "markdown",
   "metadata": {
    "id": "TxFI_9xGH8ZL"
   },
   "source": [
    "# Split train/test"
   ]
  },
  {
   "cell_type": "code",
   "execution_count": 14,
   "metadata": {
    "executionInfo": {
     "elapsed": 1912,
     "status": "ok",
     "timestamp": 1635686101567,
     "user": {
      "displayName": "Михайло Білий",
      "photoUrl": "https://lh3.googleusercontent.com/a-/AOh14GjNdOBo7kDAYGN3v7jJtH3k84Jpcug5m1WhyI5X=s64",
      "userId": "00350067261146295820"
     },
     "user_tz": -120
    },
    "id": "upkR7JSWH8ZL"
   },
   "outputs": [],
   "source": [
    "y = df.claim\n",
    "X = df.drop(columns=\"claim\")\n",
    "\n",
    "X_train, X_test, y_train, y_test = train_test_split(X, y, test_size=0.33, random_state=42)"
   ]
  },
  {
   "cell_type": "markdown",
   "metadata": {},
   "source": [
    "# For submission"
   ]
  },
  {
   "cell_type": "code",
   "execution_count": 38,
   "metadata": {},
   "outputs": [],
   "source": [
    "def save_submission(indexes: np.array, submission: np.array, prefix: str = \"\", folder: str = \"submissions/\"):\n",
    "    submit_df = pd.DataFrame({\"id\": indexes, \"claim\": submission})\n",
    "    now = datetime.datetime.now()\n",
    "    date_str = now.strftime(\"%m-%d-%Y_%H:%M:%S\")\n",
    "    file_name = f\"{folder}{prefix}submission_{date_str}.csv\"\n",
    "    submit_df.to_csv(file_name, index=False)"
   ]
  },
  {
   "cell_type": "markdown",
   "metadata": {},
   "source": [
    "# Read test data for submission"
   ]
  },
  {
   "cell_type": "code",
   "execution_count": 16,
   "metadata": {},
   "outputs": [
    {
     "name": "stdout",
     "output_type": "stream",
     "text": [
      "Shape: (493474, 118)\n"
     ]
    },
    {
     "data": {
      "text/html": [
       "<div>\n",
       "<style scoped>\n",
       "    .dataframe tbody tr th:only-of-type {\n",
       "        vertical-align: middle;\n",
       "    }\n",
       "\n",
       "    .dataframe tbody tr th {\n",
       "        vertical-align: top;\n",
       "    }\n",
       "\n",
       "    .dataframe thead th {\n",
       "        text-align: right;\n",
       "    }\n",
       "</style>\n",
       "<table border=\"1\" class=\"dataframe\">\n",
       "  <thead>\n",
       "    <tr style=\"text-align: right;\">\n",
       "      <th></th>\n",
       "      <th>f1</th>\n",
       "      <th>f2</th>\n",
       "      <th>f3</th>\n",
       "      <th>f4</th>\n",
       "      <th>f5</th>\n",
       "      <th>f6</th>\n",
       "      <th>f7</th>\n",
       "      <th>f8</th>\n",
       "      <th>f9</th>\n",
       "      <th>f10</th>\n",
       "      <th>...</th>\n",
       "      <th>f112</th>\n",
       "      <th>f113</th>\n",
       "      <th>f114</th>\n",
       "      <th>f115</th>\n",
       "      <th>f116</th>\n",
       "      <th>f117</th>\n",
       "      <th>f118</th>\n",
       "      <th>missing_num</th>\n",
       "      <th>neg_num</th>\n",
       "      <th>missing_sign</th>\n",
       "    </tr>\n",
       "    <tr>\n",
       "      <th>id</th>\n",
       "      <th></th>\n",
       "      <th></th>\n",
       "      <th></th>\n",
       "      <th></th>\n",
       "      <th></th>\n",
       "      <th></th>\n",
       "      <th></th>\n",
       "      <th></th>\n",
       "      <th></th>\n",
       "      <th></th>\n",
       "      <th></th>\n",
       "      <th></th>\n",
       "      <th></th>\n",
       "      <th></th>\n",
       "      <th></th>\n",
       "      <th></th>\n",
       "      <th></th>\n",
       "      <th></th>\n",
       "      <th></th>\n",
       "      <th></th>\n",
       "      <th></th>\n",
       "    </tr>\n",
       "  </thead>\n",
       "  <tbody>\n",
       "    <tr>\n",
       "      <th>957919</th>\n",
       "      <td>0.165850</td>\n",
       "      <td>0.487050</td>\n",
       "      <td>1295.00</td>\n",
       "      <td>0.02310</td>\n",
       "      <td>0.31900</td>\n",
       "      <td>0.90188</td>\n",
       "      <td>573.29</td>\n",
       "      <td>3743.7</td>\n",
       "      <td>2.705700e+12</td>\n",
       "      <td>6221.000</td>\n",
       "      <td>...</td>\n",
       "      <td>0.430880</td>\n",
       "      <td>-10.7410</td>\n",
       "      <td>81606.0</td>\n",
       "      <td>1.1940</td>\n",
       "      <td>1.980400e+14</td>\n",
       "      <td>2017.1</td>\n",
       "      <td>0.46357</td>\n",
       "      <td>1</td>\n",
       "      <td>14</td>\n",
       "      <td>1</td>\n",
       "    </tr>\n",
       "    <tr>\n",
       "      <th>957920</th>\n",
       "      <td>0.129650</td>\n",
       "      <td>0.373480</td>\n",
       "      <td>1763.00</td>\n",
       "      <td>0.72884</td>\n",
       "      <td>0.33247</td>\n",
       "      <td>-1.26310</td>\n",
       "      <td>875.55</td>\n",
       "      <td>554370.0</td>\n",
       "      <td>5.955700e+14</td>\n",
       "      <td>934.430</td>\n",
       "      <td>...</td>\n",
       "      <td>-1.071200</td>\n",
       "      <td>11.8320</td>\n",
       "      <td>90114.0</td>\n",
       "      <td>1.1507</td>\n",
       "      <td>4.388000e+16</td>\n",
       "      <td>6638.9</td>\n",
       "      <td>0.28125</td>\n",
       "      <td>0</td>\n",
       "      <td>13</td>\n",
       "      <td>0</td>\n",
       "    </tr>\n",
       "    <tr>\n",
       "      <th>957921</th>\n",
       "      <td>0.120190</td>\n",
       "      <td>0.445210</td>\n",
       "      <td>736.26</td>\n",
       "      <td>0.04615</td>\n",
       "      <td>0.29605</td>\n",
       "      <td>0.31665</td>\n",
       "      <td>2659.50</td>\n",
       "      <td>317140.0</td>\n",
       "      <td>3.977800e+14</td>\n",
       "      <td>131.810</td>\n",
       "      <td>...</td>\n",
       "      <td>-1.931200</td>\n",
       "      <td>-3.2804</td>\n",
       "      <td>37739.0</td>\n",
       "      <td>1.1548</td>\n",
       "      <td>1.718100e+14</td>\n",
       "      <td>5844.0</td>\n",
       "      <td>0.13797</td>\n",
       "      <td>1</td>\n",
       "      <td>14</td>\n",
       "      <td>1</td>\n",
       "    </tr>\n",
       "    <tr>\n",
       "      <th>957922</th>\n",
       "      <td>0.054008</td>\n",
       "      <td>0.395960</td>\n",
       "      <td>996.14</td>\n",
       "      <td>0.85934</td>\n",
       "      <td>0.36678</td>\n",
       "      <td>-0.17060</td>\n",
       "      <td>386.56</td>\n",
       "      <td>325680.0</td>\n",
       "      <td>-3.432200e+13</td>\n",
       "      <td>-26.473</td>\n",
       "      <td>...</td>\n",
       "      <td>-0.011633</td>\n",
       "      <td>1.3840</td>\n",
       "      <td>26849.0</td>\n",
       "      <td>1.1490</td>\n",
       "      <td>2.138800e+17</td>\n",
       "      <td>6173.3</td>\n",
       "      <td>0.32910</td>\n",
       "      <td>0</td>\n",
       "      <td>19</td>\n",
       "      <td>0</td>\n",
       "    </tr>\n",
       "    <tr>\n",
       "      <th>957923</th>\n",
       "      <td>0.079947</td>\n",
       "      <td>-0.006919</td>\n",
       "      <td>10574.00</td>\n",
       "      <td>0.34845</td>\n",
       "      <td>0.45008</td>\n",
       "      <td>-1.84200</td>\n",
       "      <td>3027.00</td>\n",
       "      <td>428150.0</td>\n",
       "      <td>9.291500e+11</td>\n",
       "      <td>5999.400</td>\n",
       "      <td>...</td>\n",
       "      <td>0.757080</td>\n",
       "      <td>-4.9405</td>\n",
       "      <td>50336.0</td>\n",
       "      <td>1.2488</td>\n",
       "      <td>2.151300e+17</td>\n",
       "      <td>2250.1</td>\n",
       "      <td>0.33796</td>\n",
       "      <td>0</td>\n",
       "      <td>17</td>\n",
       "      <td>0</td>\n",
       "    </tr>\n",
       "  </tbody>\n",
       "</table>\n",
       "<p>5 rows × 121 columns</p>\n",
       "</div>"
      ],
      "text/plain": [
       "              f1        f2        f3       f4       f5       f6       f7  \\\n",
       "id                                                                         \n",
       "957919  0.165850  0.487050   1295.00  0.02310  0.31900  0.90188   573.29   \n",
       "957920  0.129650  0.373480   1763.00  0.72884  0.33247 -1.26310   875.55   \n",
       "957921  0.120190  0.445210    736.26  0.04615  0.29605  0.31665  2659.50   \n",
       "957922  0.054008  0.395960    996.14  0.85934  0.36678 -0.17060   386.56   \n",
       "957923  0.079947 -0.006919  10574.00  0.34845  0.45008 -1.84200  3027.00   \n",
       "\n",
       "              f8            f9       f10  ...      f112     f113     f114  \\\n",
       "id                                        ...                               \n",
       "957919    3743.7  2.705700e+12  6221.000  ...  0.430880 -10.7410  81606.0   \n",
       "957920  554370.0  5.955700e+14   934.430  ... -1.071200  11.8320  90114.0   \n",
       "957921  317140.0  3.977800e+14   131.810  ... -1.931200  -3.2804  37739.0   \n",
       "957922  325680.0 -3.432200e+13   -26.473  ... -0.011633   1.3840  26849.0   \n",
       "957923  428150.0  9.291500e+11  5999.400  ...  0.757080  -4.9405  50336.0   \n",
       "\n",
       "          f115          f116    f117     f118  missing_num  neg_num  \\\n",
       "id                                                                    \n",
       "957919  1.1940  1.980400e+14  2017.1  0.46357            1       14   \n",
       "957920  1.1507  4.388000e+16  6638.9  0.28125            0       13   \n",
       "957921  1.1548  1.718100e+14  5844.0  0.13797            1       14   \n",
       "957922  1.1490  2.138800e+17  6173.3  0.32910            0       19   \n",
       "957923  1.2488  2.151300e+17  2250.1  0.33796            0       17   \n",
       "\n",
       "        missing_sign  \n",
       "id                    \n",
       "957919             1  \n",
       "957920             0  \n",
       "957921             1  \n",
       "957922             0  \n",
       "957923             0  \n",
       "\n",
       "[5 rows x 121 columns]"
      ]
     },
     "execution_count": 16,
     "metadata": {},
     "output_type": "execute_result"
    }
   ],
   "source": [
    "df_test = pd.read_csv(f\"{PATH_TO_DATA_FOLDER}test.csv\", index_col=\"id\")\n",
    "print(\"Shape:\", df_test.shape)\n",
    "preprocess(df_test)\n",
    "df_test.head()"
   ]
  },
  {
   "cell_type": "markdown",
   "metadata": {},
   "source": [
    "# Base tree model params"
   ]
  },
  {
   "cell_type": "code",
   "execution_count": 27,
   "metadata": {},
   "outputs": [],
   "source": [
    "base_model_params = {\n",
    "    \"max_depth\": 25,\n",
    "    \"min_samples_split\": 5,\n",
    "    \"min_samples_leaf\": 2\n",
    "}"
   ]
  },
  {
   "cell_type": "markdown",
   "metadata": {},
   "source": [
    "# Check time to train one tree"
   ]
  },
  {
   "cell_type": "code",
   "execution_count": 28,
   "metadata": {},
   "outputs": [
    {
     "data": {
      "text/plain": [
       "641805"
      ]
     },
     "execution_count": 28,
     "metadata": {},
     "output_type": "execute_result"
    }
   ],
   "source": [
    "TRAIN_SAMPLES = 100000\n",
    "X_train.shape[0]"
   ]
  },
  {
   "cell_type": "code",
   "execution_count": 29,
   "metadata": {},
   "outputs": [
    {
     "name": "stdout",
     "output_type": "stream",
     "text": [
      "CPU times: user 23.8 s, sys: 223 ms, total: 24.1 s\n",
      "Wall time: 24.1 s\n"
     ]
    },
    {
     "data": {
      "text/plain": [
       "DecisionTreeClassifier(ccp_alpha=0.0, class_weight=None, criterion='gini',\n",
       "                       max_depth=25, max_features=None, max_leaf_nodes=None,\n",
       "                       min_impurity_decrease=0.0, min_impurity_split=None,\n",
       "                       min_samples_leaf=2, min_samples_split=5,\n",
       "                       min_weight_fraction_leaf=0.0, presort='deprecated',\n",
       "                       random_state=None, splitter='best')"
      ]
     },
     "execution_count": 29,
     "metadata": {},
     "output_type": "execute_result"
    }
   ],
   "source": [
    "%%time\n",
    "tree = DecisionTreeClassifier(**base_model_params)\n",
    "tree.fit(X_train[:TRAIN_SAMPLES], y_train[:TRAIN_SAMPLES])"
   ]
  },
  {
   "cell_type": "markdown",
   "metadata": {
    "id": "SEFwGjP7H8ZL"
   },
   "source": [
    "# Train my implementation"
   ]
  },
  {
   "cell_type": "code",
   "execution_count": 30,
   "metadata": {
    "id": "tT6Vo9KNH8ZM"
   },
   "outputs": [
    {
     "name": "stdout",
     "output_type": "stream",
     "text": [
      "CPU times: user 1.3 s, sys: 1.46 s, total: 2.76 s\n",
      "Wall time: 1min 37s\n"
     ]
    }
   ],
   "source": [
    "%%time\n",
    "my_clf = MyRandomForestClassifier(n_estimators=200, threads=5, base_model_params=base_model_params)\n",
    "my_clf.fit(X_train[:TRAIN_SAMPLES], y_train[:TRAIN_SAMPLES])"
   ]
  },
  {
   "cell_type": "code",
   "execution_count": 31,
   "metadata": {
    "id": "JfV6A8JWH8ZM"
   },
   "outputs": [
    {
     "name": "stdout",
     "output_type": "stream",
     "text": [
      "CPU times: user 9.13 s, sys: 16.3 s, total: 25.4 s\n",
      "Wall time: 55 s\n"
     ]
    }
   ],
   "source": [
    "%%time\n",
    "\n",
    "my_clf_y_pred = my_clf.predict(X_test)"
   ]
  },
  {
   "cell_type": "code",
   "execution_count": 32,
   "metadata": {
    "id": "i8Adr5FxH8ZN"
   },
   "outputs": [
    {
     "data": {
      "image/png": "[encoded data removed]",
      "text/plain": [
       "<Figure size 864x432 with 2 Axes>"
      ]
     },
     "metadata": {
      "needs_background": "light"
     },
     "output_type": "display_data"
    }
   ],
   "source": [
    "cf_matrix = confusion_matrix(y_test, my_clf_y_pred)\n",
    "labels = [\"True Neg\", \"False Pos\", \"False Neg\", \"True Pos\"]\n",
    "make_confusion_matrix(cf_matrix, figsize=(12, 6), group_names=labels)"
   ]
  },
  {
   "cell_type": "markdown",
   "metadata": {},
   "source": [
    "### Submit MyRandomForestClassifier"
   ]
  },
  {
   "cell_type": "code",
   "execution_count": 40,
   "metadata": {},
   "outputs": [
    {
     "name": "stdout",
     "output_type": "stream",
     "text": [
      "CPU times: user 12.2 s, sys: 19.2 s, total: 31.4 s\n",
      "Wall time: 1min 5s\n"
     ]
    }
   ],
   "source": [
    "%%time\n",
    "\n",
    "submit_my_clf = my_clf.predict(df_test)\n",
    "save_submission(df_test.index, submit_my_clf, prefix=\"my-clf_\")"
   ]
  },
  {
   "cell_type": "code",
   "execution_count": 41,
   "metadata": {},
   "outputs": [
    {
     "name": "stdout",
     "output_type": "stream",
     "text": [
      "Private, public: 0.77238 0.77357\n"
     ]
    }
   ],
   "source": [
    "print(\"Private, public:\", 0.77238, 0.77357)"
   ]
  },
  {
   "cell_type": "markdown",
   "metadata": {
    "id": "tUbb_AxXaBeN"
   },
   "source": [
    "# RandomForest"
   ]
  },
  {
   "cell_type": "code",
   "execution_count": 42,
   "metadata": {
    "colab": {
     "base_uri": "https://localhost:8080/"
    },
    "executionInfo": {
     "elapsed": 619902,
     "status": "ok",
     "timestamp": 1635687004652,
     "user": {
      "displayName": "Михайло Білий",
      "photoUrl": "https://lh3.googleusercontent.com/a-/AOh14GjNdOBo7kDAYGN3v7jJtH3k84Jpcug5m1WhyI5X=s64",
      "userId": "00350067261146295820"
     },
     "user_tz": -120
    },
    "id": "FMurTBTEH8ZN",
    "outputId": "5f308668-ed2f-4f99-d2e4-eb01c0f9abf4"
   },
   "outputs": [
    {
     "name": "stdout",
     "output_type": "stream",
     "text": [
      "CPU times: user 21min 4s, sys: 8.99 s, total: 21min 13s\n",
      "Wall time: 5min 21s\n"
     ]
    },
    {
     "data": {
      "text/plain": [
       "RandomForestClassifier(bootstrap=True, ccp_alpha=0.0, class_weight=None,\n",
       "                       criterion='gini', max_depth=25, max_features='auto',\n",
       "                       max_leaf_nodes=None, max_samples=None,\n",
       "                       min_impurity_decrease=0.0, min_impurity_split=None,\n",
       "                       min_samples_leaf=2, min_samples_split=5,\n",
       "                       min_weight_fraction_leaf=0.0, n_estimators=100, n_jobs=4,\n",
       "                       oob_score=False, random_state=None, verbose=0,\n",
       "                       warm_start=False)"
      ]
     },
     "execution_count": 42,
     "metadata": {},
     "output_type": "execute_result"
    }
   ],
   "source": [
    "%%time\n",
    "\n",
    "rfc_clf = RandomForestClassifier(n_jobs=4, **base_model_params)\n",
    "rfc_clf.fit(X_train, y_train)"
   ]
  },
  {
   "cell_type": "code",
   "execution_count": 43,
   "metadata": {
    "colab": {
     "base_uri": "https://localhost:8080/",
     "height": 359
    },
    "executionInfo": {
     "elapsed": 320,
     "status": "ok",
     "timestamp": 1635687638889,
     "user": {
      "displayName": "Михайло Білий",
      "photoUrl": "https://lh3.googleusercontent.com/a-/AOh14GjNdOBo7kDAYGN3v7jJtH3k84Jpcug5m1WhyI5X=s64",
      "userId": "00350067261146295820"
     },
     "user_tz": -120
    },
    "id": "M4-aNsTRaSuT",
    "outputId": "76562615-bd2b-4d5a-c789-7e94fbaa5d40"
   },
   "outputs": [
    {
     "data": {
      "text/html": [
       "<div>\n",
       "<style scoped>\n",
       "    .dataframe tbody tr th:only-of-type {\n",
       "        vertical-align: middle;\n",
       "    }\n",
       "\n",
       "    .dataframe tbody tr th {\n",
       "        vertical-align: top;\n",
       "    }\n",
       "\n",
       "    .dataframe thead th {\n",
       "        text-align: right;\n",
       "    }\n",
       "</style>\n",
       "<table border=\"1\" class=\"dataframe\">\n",
       "  <thead>\n",
       "    <tr style=\"text-align: right;\">\n",
       "      <th></th>\n",
       "      <th>Importance</th>\n",
       "      <th>Feature</th>\n",
       "    </tr>\n",
       "  </thead>\n",
       "  <tbody>\n",
       "    <tr>\n",
       "      <th>118</th>\n",
       "      <td>0.274673</td>\n",
       "      <td>missing_num</td>\n",
       "    </tr>\n",
       "    <tr>\n",
       "      <th>120</th>\n",
       "      <td>0.233308</td>\n",
       "      <td>missing_sign</td>\n",
       "    </tr>\n",
       "    <tr>\n",
       "      <th>2</th>\n",
       "      <td>0.004689</td>\n",
       "      <td>f3</td>\n",
       "    </tr>\n",
       "    <tr>\n",
       "      <th>34</th>\n",
       "      <td>0.004688</td>\n",
       "      <td>f35</td>\n",
       "    </tr>\n",
       "    <tr>\n",
       "      <th>33</th>\n",
       "      <td>0.004637</td>\n",
       "      <td>f34</td>\n",
       "    </tr>\n",
       "    <tr>\n",
       "      <th>39</th>\n",
       "      <td>0.004596</td>\n",
       "      <td>f40</td>\n",
       "    </tr>\n",
       "    <tr>\n",
       "      <th>7</th>\n",
       "      <td>0.004542</td>\n",
       "      <td>f8</td>\n",
       "    </tr>\n",
       "    <tr>\n",
       "      <th>95</th>\n",
       "      <td>0.004479</td>\n",
       "      <td>f96</td>\n",
       "    </tr>\n",
       "    <tr>\n",
       "      <th>46</th>\n",
       "      <td>0.004409</td>\n",
       "      <td>f47</td>\n",
       "    </tr>\n",
       "    <tr>\n",
       "      <th>64</th>\n",
       "      <td>0.004405</td>\n",
       "      <td>f65</td>\n",
       "    </tr>\n",
       "  </tbody>\n",
       "</table>\n",
       "</div>"
      ],
      "text/plain": [
       "     Importance       Feature\n",
       "118    0.274673   missing_num\n",
       "120    0.233308  missing_sign\n",
       "2      0.004689            f3\n",
       "34     0.004688           f35\n",
       "33     0.004637           f34\n",
       "39     0.004596           f40\n",
       "7      0.004542            f8\n",
       "95     0.004479           f96\n",
       "46     0.004409           f47\n",
       "64     0.004405           f65"
      ]
     },
     "execution_count": 43,
     "metadata": {},
     "output_type": "execute_result"
    }
   ],
   "source": [
    "rfc_feature_importance = pd.DataFrame({\n",
    "        \"Importance\": rfc_clf.feature_importances_,\n",
    "        \"Feature\": X_train.columns\n",
    "      })\n",
    "rfc_feature_importance.sort_values(\"Importance\", ascending=False, inplace=True)\n",
    "rfc_feature_importance.head(10)"
   ]
  },
  {
   "cell_type": "code",
   "execution_count": 44,
   "metadata": {
    "colab": {
     "base_uri": "https://localhost:8080/",
     "height": 644
    },
    "executionInfo": {
     "elapsed": 351,
     "status": "ok",
     "timestamp": 1635687782401,
     "user": {
      "displayName": "Михайло Білий",
      "photoUrl": "https://lh3.googleusercontent.com/a-/AOh14GjNdOBo7kDAYGN3v7jJtH3k84Jpcug5m1WhyI5X=s64",
      "userId": "00350067261146295820"
     },
     "user_tz": -120
    },
    "id": "1ErT91JilHv7",
    "outputId": "e2e84ae5-7d28-4e7e-ab64-c5fe2e6d9c29"
   },
   "outputs": [
    {
     "data": {
      "text/plain": [
       "Text(0, 0.5, 'Features')"
      ]
     },
     "execution_count": 44,
     "metadata": {},
     "output_type": "execute_result"
    },
    {
     "data": {
      "image/png": "[encoded data removed]",
      "text/plain": [
       "<Figure size 720x720 with 1 Axes>"
      ]
     },
     "metadata": {
      "needs_background": "light"
     },
     "output_type": "display_data"
    }
   ],
   "source": [
    "plt.figure(figsize=(10, 10))\n",
    "feature_importance_graph = sns.barplot(y = rfc_feature_importance.Feature[:10], x = \"Importance\", data=rfc_feature_importance[:10], orient=\"h\")\n",
    "feature_importance_graph.set_title(\"Top 10 Feature importance by RandomForestClassifier\", fontsize = 20)\n",
    "feature_importance_graph.set_ylabel(\"Features\")"
   ]
  },
  {
   "cell_type": "code",
   "execution_count": 45,
   "metadata": {
    "colab": {
     "base_uri": "https://localhost:8080/"
    },
    "executionInfo": {
     "elapsed": 4982,
     "status": "ok",
     "timestamp": 1635687792877,
     "user": {
      "displayName": "Михайло Білий",
      "photoUrl": "https://lh3.googleusercontent.com/a-/AOh14GjNdOBo7kDAYGN3v7jJtH3k84Jpcug5m1WhyI5X=s64",
      "userId": "00350067261146295820"
     },
     "user_tz": -120
    },
    "id": "9yMrYwWne7B0",
    "outputId": "a690770e-3d43-41a8-f8fa-0c51ef2a54da"
   },
   "outputs": [
    {
     "data": {
      "text/plain": [
       "0.771484337928722"
      ]
     },
     "execution_count": 45,
     "metadata": {},
     "output_type": "execute_result"
    }
   ],
   "source": [
    "y_rfc_pred = rfc_clf.predict(X_test)\n",
    "accuracy_score(y_test, y_rfc_pred)"
   ]
  },
  {
   "cell_type": "code",
   "execution_count": 46,
   "metadata": {},
   "outputs": [
    {
     "data": {
      "image/png": "[encoded data removed]",
      "text/plain": [
       "<Figure size 864x432 with 2 Axes>"
      ]
     },
     "metadata": {
      "needs_background": "light"
     },
     "output_type": "display_data"
    }
   ],
   "source": [
    "cf_matrix = confusion_matrix(y_test, y_rfc_pred)\n",
    "labels = [\"True Neg\", \"False Pos\", \"False Neg\", \"True Pos\"]\n",
    "make_confusion_matrix(cf_matrix, figsize=(12, 6), group_names=labels)"
   ]
  },
  {
   "cell_type": "code",
   "execution_count": 48,
   "metadata": {},
   "outputs": [],
   "source": [
    "submit_rfc = rfc_clf.predict(df_test)\n",
    "save_submission(df_test.index, submit_rfc, prefix=\"rfc_\")"
   ]
  },
  {
   "cell_type": "markdown",
   "metadata": {},
   "source": [
    "Private: 0.77236\n",
    "Public: 0.77360"
   ]
  },
  {
   "cell_type": "markdown",
   "metadata": {
    "id": "GgBjPSt4hxSk"
   },
   "source": [
    "# LGBM"
   ]
  },
  {
   "cell_type": "code",
   "execution_count": 85,
   "metadata": {
    "colab": {
     "base_uri": "https://localhost:8080/"
    },
    "executionInfo": {
     "elapsed": 57329,
     "status": "ok",
     "timestamp": 1635687917491,
     "user": {
      "displayName": "Михайло Білий",
      "photoUrl": "https://lh3.googleusercontent.com/a-/AOh14GjNdOBo7kDAYGN3v7jJtH3k84Jpcug5m1WhyI5X=s64",
      "userId": "00350067261146295820"
     },
     "user_tz": -120
    },
    "id": "0gCEkKfPhyWB",
    "outputId": "6a7328ae-7b60-459f-d2a7-99b415a74f2d"
   },
   "outputs": [
    {
     "name": "stdout",
     "output_type": "stream",
     "text": [
      "CPU times: user 5min 18s, sys: 3.9 s, total: 5min 22s\n",
      "Wall time: 25 s\n"
     ]
    },
    {
     "data": {
      "text/plain": [
       "LGBMClassifier(boosting_type='gbdt', class_weight=None, colsample_bytree=1.0,\n",
       "               importance_type='split', learning_rate=0.001, max_depth=-1,\n",
       "               min_child_samples=20, min_child_weight=0.001, min_split_gain=0.0,\n",
       "               n_estimators=200, n_jobs=-1, num_leaves=31, objective=None,\n",
       "               random_state=None, reg_alpha=0.0, reg_lambda=0.0, silent=True,\n",
       "               subsample=1.0, subsample_for_bin=200000, subsample_freq=0)"
      ]
     },
     "execution_count": 85,
     "metadata": {},
     "output_type": "execute_result"
    }
   ],
   "source": [
    "%%time\n",
    "\n",
    "lgbc = LGBMClassifier(n_estimators=200, learning_rate=0.001)\n",
    "lgbc.fit(X_train, y_train)"
   ]
  },
  {
   "cell_type": "code",
   "execution_count": 86,
   "metadata": {
    "colab": {
     "base_uri": "https://localhost:8080/",
     "height": 359
    },
    "executionInfo": {
     "elapsed": 287,
     "status": "ok",
     "timestamp": 1635688033596,
     "user": {
      "displayName": "Михайло Білий",
      "photoUrl": "https://lh3.googleusercontent.com/a-/AOh14GjNdOBo7kDAYGN3v7jJtH3k84Jpcug5m1WhyI5X=s64",
      "userId": "00350067261146295820"
     },
     "user_tz": -120
    },
    "id": "fZFn6JV1mAYz",
    "outputId": "ff439d0b-d928-4283-8f9b-a31d9a0853e3"
   },
   "outputs": [
    {
     "data": {
      "text/html": [
       "<div>\n",
       "<style scoped>\n",
       "    .dataframe tbody tr th:only-of-type {\n",
       "        vertical-align: middle;\n",
       "    }\n",
       "\n",
       "    .dataframe tbody tr th {\n",
       "        vertical-align: top;\n",
       "    }\n",
       "\n",
       "    .dataframe thead th {\n",
       "        text-align: right;\n",
       "    }\n",
       "</style>\n",
       "<table border=\"1\" class=\"dataframe\">\n",
       "  <thead>\n",
       "    <tr style=\"text-align: right;\">\n",
       "      <th></th>\n",
       "      <th>Importance</th>\n",
       "      <th>Feature</th>\n",
       "    </tr>\n",
       "  </thead>\n",
       "  <tbody>\n",
       "    <tr>\n",
       "      <th>118</th>\n",
       "      <td>598</td>\n",
       "      <td>missing_num</td>\n",
       "    </tr>\n",
       "    <tr>\n",
       "      <th>20</th>\n",
       "      <td>523</td>\n",
       "      <td>f21</td>\n",
       "    </tr>\n",
       "    <tr>\n",
       "      <th>95</th>\n",
       "      <td>508</td>\n",
       "      <td>f96</td>\n",
       "    </tr>\n",
       "    <tr>\n",
       "      <th>34</th>\n",
       "      <td>471</td>\n",
       "      <td>f35</td>\n",
       "    </tr>\n",
       "    <tr>\n",
       "      <th>39</th>\n",
       "      <td>470</td>\n",
       "      <td>f40</td>\n",
       "    </tr>\n",
       "    <tr>\n",
       "      <th>33</th>\n",
       "      <td>431</td>\n",
       "      <td>f34</td>\n",
       "    </tr>\n",
       "    <tr>\n",
       "      <th>44</th>\n",
       "      <td>428</td>\n",
       "      <td>f45</td>\n",
       "    </tr>\n",
       "    <tr>\n",
       "      <th>69</th>\n",
       "      <td>319</td>\n",
       "      <td>f70</td>\n",
       "    </tr>\n",
       "    <tr>\n",
       "      <th>2</th>\n",
       "      <td>297</td>\n",
       "      <td>f3</td>\n",
       "    </tr>\n",
       "    <tr>\n",
       "      <th>64</th>\n",
       "      <td>259</td>\n",
       "      <td>f65</td>\n",
       "    </tr>\n",
       "  </tbody>\n",
       "</table>\n",
       "</div>"
      ],
      "text/plain": [
       "     Importance      Feature\n",
       "118         598  missing_num\n",
       "20          523          f21\n",
       "95          508          f96\n",
       "34          471          f35\n",
       "39          470          f40\n",
       "33          431          f34\n",
       "44          428          f45\n",
       "69          319          f70\n",
       "2           297           f3\n",
       "64          259          f65"
      ]
     },
     "execution_count": 86,
     "metadata": {},
     "output_type": "execute_result"
    }
   ],
   "source": [
    "lgbc_feature_importance = pd.DataFrame({\n",
    "        \"Importance\": lgbc.feature_importances_,\n",
    "        \"Feature\": X_train.columns\n",
    "      })\n",
    "lgbc_feature_importance.sort_values(\"Importance\", ascending=False, inplace=True)\n",
    "lgbc_feature_importance.head(10)"
   ]
  },
  {
   "cell_type": "code",
   "execution_count": 87,
   "metadata": {
    "colab": {
     "base_uri": "https://localhost:8080/",
     "height": 644
    },
    "executionInfo": {
     "elapsed": 343,
     "status": "ok",
     "timestamp": 1635688141465,
     "user": {
      "displayName": "Михайло Білий",
      "photoUrl": "https://lh3.googleusercontent.com/a-/AOh14GjNdOBo7kDAYGN3v7jJtH3k84Jpcug5m1WhyI5X=s64",
      "userId": "00350067261146295820"
     },
     "user_tz": -120
    },
    "id": "Hg3YIZhymbYb",
    "outputId": "477a6163-be7b-4acd-9130-b4aa38996556"
   },
   "outputs": [
    {
     "data": {
      "text/plain": [
       "Text(0, 0.5, 'Features')"
      ]
     },
     "execution_count": 87,
     "metadata": {},
     "output_type": "execute_result"
    },
    {
     "data": {
      "image/png": "[encoded data removed]",
      "text/plain": [
       "<Figure size 720x720 with 1 Axes>"
      ]
     },
     "metadata": {
      "needs_background": "light"
     },
     "output_type": "display_data"
    }
   ],
   "source": [
    "plt.figure(figsize=(10, 10))\n",
    "feature_importance_graph = sns.barplot(y = lgbc_feature_importance.Feature[:10], x = \"Importance\", data=lgbc_feature_importance[:10], orient=\"h\")\n",
    "feature_importance_graph.set_title(\"Top 10 Feature importance by LGBMClassifier\", fontsize = 20)\n",
    "feature_importance_graph.set_ylabel(\"Features\")"
   ]
  },
  {
   "cell_type": "code",
   "execution_count": 88,
   "metadata": {
    "colab": {
     "base_uri": "https://localhost:8080/"
    },
    "executionInfo": {
     "elapsed": 2741,
     "status": "ok",
     "timestamp": 1635688211291,
     "user": {
      "displayName": "Михайло Білий",
      "photoUrl": "https://lh3.googleusercontent.com/a-/AOh14GjNdOBo7kDAYGN3v7jJtH3k84Jpcug5m1WhyI5X=s64",
      "userId": "00350067261146295820"
     },
     "user_tz": -120
    },
    "id": "CulfATMhnAfB",
    "outputId": "3fe48734-e7de-4b01-f4ab-41b195313959"
   },
   "outputs": [
    {
     "name": "stdout",
     "output_type": "stream",
     "text": [
      "CPU times: user 7.76 s, sys: 704 ms, total: 8.47 s\n",
      "Wall time: 1.94 s\n"
     ]
    }
   ],
   "source": [
    "%%time\n",
    "\n",
    "y_lgbc_pred = lgbc.predict(X_test)"
   ]
  },
  {
   "cell_type": "code",
   "execution_count": 89,
   "metadata": {},
   "outputs": [
    {
     "data": {
      "image/png": "[encoded data removed]",
      "text/plain": [
       "<Figure size 864x432 with 2 Axes>"
      ]
     },
     "metadata": {
      "needs_background": "light"
     },
     "output_type": "display_data"
    }
   ],
   "source": [
    "cf_matrix = confusion_matrix(y_test, y_lgbc_pred)\n",
    "labels = [\"True Neg\", \"False Pos\", \"False Neg\", \"True Pos\"]\n",
    "make_confusion_matrix(cf_matrix, figsize=(12, 6), group_names=labels)"
   ]
  },
  {
   "cell_type": "code",
   "execution_count": 90,
   "metadata": {},
   "outputs": [
    {
     "name": "stdout",
     "output_type": "stream",
     "text": [
      "CPU times: user 13.7 s, sys: 1.39 s, total: 15.1 s\n",
      "Wall time: 4 s\n"
     ]
    }
   ],
   "source": [
    "%%time\n",
    "submit_lgbc = lgbc.predict(df_test)\n",
    "save_submission(df_test.index, submit_lgbc, prefix=\"lgbc_\")"
   ]
  },
  {
   "cell_type": "markdown",
   "metadata": {},
   "source": [
    "Private: 0.77238\n",
    "Public 0.77357"
   ]
  },
  {
   "cell_type": "markdown",
   "metadata": {},
   "source": [
    "# Bagging"
   ]
  },
  {
   "cell_type": "code",
   "execution_count": 55,
   "metadata": {},
   "outputs": [],
   "source": [
    "def bagging_result(predicts: List[np.ndarray]) -> np.array:\n",
    "    res = 0.0\n",
    "    for i in predicts:\n",
    "        res += i\n",
    "    res /= len(predicts)\n",
    "    ans = res.argmax(axis=1)\n",
    "    return ans"
   ]
  },
  {
   "cell_type": "markdown",
   "metadata": {},
   "source": [
    "## Bagging ckeck metrics"
   ]
  },
  {
   "cell_type": "code",
   "execution_count": 56,
   "metadata": {},
   "outputs": [
    {
     "name": "stdout",
     "output_type": "stream",
     "text": [
      "CPU times: user 30.3 s, sys: 15.3 s, total: 45.6 s\n",
      "Wall time: 53.4 s\n"
     ]
    }
   ],
   "source": [
    "%%time\n",
    "\n",
    "proba_test_my_clf = my_clf.predict_proba(X_test)\n",
    "proba_test_rfc = rfc_clf.predict_proba(X_test)\n",
    "proba_test_lgbc = lgbc.predict_proba(X_test)\n",
    "\n",
    "y_begg_pred = bagging_result([proba_test_my_clf, proba_test_rfc, proba_test_lgbc])"
   ]
  },
  {
   "cell_type": "code",
   "execution_count": 57,
   "metadata": {},
   "outputs": [
    {
     "data": {
      "image/png": "[encoded data removed]",
      "text/plain": [
       "<Figure size 864x432 with 2 Axes>"
      ]
     },
     "metadata": {
      "needs_background": "light"
     },
     "output_type": "display_data"
    }
   ],
   "source": [
    "cf_matrix = confusion_matrix(y_test, y_begg_pred)\n",
    "labels = [\"True Neg\", \"False Pos\", \"False Neg\", \"True Pos\"]\n",
    "make_confusion_matrix(cf_matrix, figsize=(12, 6), group_names=labels)"
   ]
  },
  {
   "cell_type": "code",
   "execution_count": 58,
   "metadata": {},
   "outputs": [
    {
     "name": "stdout",
     "output_type": "stream",
     "text": [
      "CPU times: user 1 µs, sys: 1e+03 ns, total: 2 µs\n",
      "Wall time: 4.05 µs\n"
     ]
    }
   ],
   "source": [
    "%time\n",
    "\n",
    "proba_my_clf = my_clf.predict_proba(df_test)\n",
    "proba_rfc = rfc_clf.predict_proba(df_test)\n",
    "proba_lgbc = lgbc.predict_proba(df_test)"
   ]
  },
  {
   "cell_type": "code",
   "execution_count": 59,
   "metadata": {},
   "outputs": [
    {
     "data": {
      "text/plain": [
       "array([1, 0, 1, ..., 1, 0, 1])"
      ]
     },
     "execution_count": 59,
     "metadata": {},
     "output_type": "execute_result"
    }
   ],
   "source": [
    "begg_res = bagging_result([proba_my_clf, proba_rfc, proba_lgbc])\n",
    "begg_res"
   ]
  },
  {
   "cell_type": "code",
   "execution_count": 60,
   "metadata": {},
   "outputs": [
    {
     "name": "stdout",
     "output_type": "stream",
     "text": [
      "Diff answer 0.01%: 33/493474\n"
     ]
    }
   ],
   "source": [
    "diff_answer = (begg_res != submit_lgbc).sum()\n",
    "diff_percent = round(diff_answer / submit_rfc.shape[0] * 100.0, 2)\n",
    "print(f\"Diff answer {diff_percent}%: {diff_answer}/{submit_rfc.shape[0]}\")"
   ]
  },
  {
   "cell_type": "code",
   "execution_count": 61,
   "metadata": {},
   "outputs": [],
   "source": [
    "save_submission(df_test.index, begg_res, prefix=\"bagging_\")"
   ]
  },
  {
   "cell_type": "markdown",
   "metadata": {},
   "source": [
    "Private: 0.77239\n",
    "Public: 0.77355"
   ]
  },
  {
   "cell_type": "code",
   "execution_count": 79,
   "metadata": {},
   "outputs": [
    {
     "name": "stdout",
     "output_type": "stream",
     "text": [
      "Diff answer 0.0%: 8/493474\n"
     ]
    }
   ],
   "source": [
    "begg_res = bagging_result([proba_rfc, proba_lgbc])\n",
    "diff_answer = (begg_res != submit_lgbc).sum()\n",
    "diff_percent = round(diff_answer / submit_rfc.shape[0] * 100.0, 2)\n",
    "print(f\"Diff answer {diff_percent}%: {diff_answer}/{submit_rfc.shape[0]}\")\n",
    "save_submission(df_test.index, begg_res, prefix=\"bagging2_\")"
   ]
  },
  {
   "cell_type": "markdown",
   "metadata": {},
   "source": [
    "Private: 0.77239\n",
    "Public: 0.77358"
   ]
  },
  {
   "cell_type": "code",
   "execution_count": 80,
   "metadata": {},
   "outputs": [
    {
     "name": "stdout",
     "output_type": "stream",
     "text": [
      "Diff answer 0.07%: 327/493474\n"
     ]
    }
   ],
   "source": [
    "begg_res = bagging_result([proba_my_clf, proba_lgbc])\n",
    "diff_answer = (begg_res != submit_lgbc).sum()\n",
    "diff_percent = round(diff_answer / submit_rfc.shape[0] * 100.0, 2)\n",
    "print(f\"Diff answer {diff_percent}%: {diff_answer}/{submit_rfc.shape[0]}\")\n",
    "save_submission(df_test.index, begg_res, prefix=\"bagging3_\")"
   ]
  },
  {
   "cell_type": "markdown",
   "metadata": {},
   "source": [
    "Private: 0.77241\n",
    "Public: 0.77356"
   ]
  },
  {
   "cell_type": "markdown",
   "metadata": {},
   "source": [
    "# Analyse bagging results"
   ]
  },
  {
   "cell_type": "code",
   "execution_count": 74,
   "metadata": {},
   "outputs": [
    {
     "data": {
      "text/html": [
       "<div>\n",
       "<style scoped>\n",
       "    .dataframe tbody tr th:only-of-type {\n",
       "        vertical-align: middle;\n",
       "    }\n",
       "\n",
       "    .dataframe tbody tr th {\n",
       "        vertical-align: top;\n",
       "    }\n",
       "\n",
       "    .dataframe thead th {\n",
       "        text-align: right;\n",
       "    }\n",
       "</style>\n",
       "<table border=\"1\" class=\"dataframe\">\n",
       "  <thead>\n",
       "    <tr style=\"text-align: right;\">\n",
       "      <th></th>\n",
       "      <th>y_true</th>\n",
       "      <th>my</th>\n",
       "      <th>rfc</th>\n",
       "      <th>lgbc</th>\n",
       "      <th>my_is_true</th>\n",
       "      <th>rfc_is_true</th>\n",
       "      <th>lgbc_is_true</th>\n",
       "    </tr>\n",
       "    <tr>\n",
       "      <th>id</th>\n",
       "      <th></th>\n",
       "      <th></th>\n",
       "      <th></th>\n",
       "      <th></th>\n",
       "      <th></th>\n",
       "      <th></th>\n",
       "      <th></th>\n",
       "    </tr>\n",
       "  </thead>\n",
       "  <tbody>\n",
       "    <tr>\n",
       "      <th>682721</th>\n",
       "      <td>0</td>\n",
       "      <td>1</td>\n",
       "      <td>1</td>\n",
       "      <td>1</td>\n",
       "      <td>False</td>\n",
       "      <td>False</td>\n",
       "      <td>False</td>\n",
       "    </tr>\n",
       "    <tr>\n",
       "      <th>470979</th>\n",
       "      <td>1</td>\n",
       "      <td>1</td>\n",
       "      <td>1</td>\n",
       "      <td>1</td>\n",
       "      <td>True</td>\n",
       "      <td>True</td>\n",
       "      <td>True</td>\n",
       "    </tr>\n",
       "    <tr>\n",
       "      <th>394613</th>\n",
       "      <td>1</td>\n",
       "      <td>1</td>\n",
       "      <td>1</td>\n",
       "      <td>1</td>\n",
       "      <td>True</td>\n",
       "      <td>True</td>\n",
       "      <td>True</td>\n",
       "    </tr>\n",
       "    <tr>\n",
       "      <th>329967</th>\n",
       "      <td>0</td>\n",
       "      <td>0</td>\n",
       "      <td>0</td>\n",
       "      <td>0</td>\n",
       "      <td>True</td>\n",
       "      <td>True</td>\n",
       "      <td>True</td>\n",
       "    </tr>\n",
       "    <tr>\n",
       "      <th>711757</th>\n",
       "      <td>0</td>\n",
       "      <td>0</td>\n",
       "      <td>0</td>\n",
       "      <td>0</td>\n",
       "      <td>True</td>\n",
       "      <td>True</td>\n",
       "      <td>True</td>\n",
       "    </tr>\n",
       "    <tr>\n",
       "      <th>...</th>\n",
       "      <td>...</td>\n",
       "      <td>...</td>\n",
       "      <td>...</td>\n",
       "      <td>...</td>\n",
       "      <td>...</td>\n",
       "      <td>...</td>\n",
       "      <td>...</td>\n",
       "    </tr>\n",
       "    <tr>\n",
       "      <th>443252</th>\n",
       "      <td>1</td>\n",
       "      <td>1</td>\n",
       "      <td>1</td>\n",
       "      <td>1</td>\n",
       "      <td>True</td>\n",
       "      <td>True</td>\n",
       "      <td>True</td>\n",
       "    </tr>\n",
       "    <tr>\n",
       "      <th>169305</th>\n",
       "      <td>0</td>\n",
       "      <td>1</td>\n",
       "      <td>1</td>\n",
       "      <td>1</td>\n",
       "      <td>False</td>\n",
       "      <td>False</td>\n",
       "      <td>False</td>\n",
       "    </tr>\n",
       "    <tr>\n",
       "      <th>953987</th>\n",
       "      <td>0</td>\n",
       "      <td>0</td>\n",
       "      <td>0</td>\n",
       "      <td>0</td>\n",
       "      <td>True</td>\n",
       "      <td>True</td>\n",
       "      <td>True</td>\n",
       "    </tr>\n",
       "    <tr>\n",
       "      <th>739397</th>\n",
       "      <td>1</td>\n",
       "      <td>1</td>\n",
       "      <td>1</td>\n",
       "      <td>1</td>\n",
       "      <td>True</td>\n",
       "      <td>True</td>\n",
       "      <td>True</td>\n",
       "    </tr>\n",
       "    <tr>\n",
       "      <th>829320</th>\n",
       "      <td>1</td>\n",
       "      <td>1</td>\n",
       "      <td>1</td>\n",
       "      <td>1</td>\n",
       "      <td>True</td>\n",
       "      <td>True</td>\n",
       "      <td>True</td>\n",
       "    </tr>\n",
       "  </tbody>\n",
       "</table>\n",
       "<p>316114 rows × 7 columns</p>\n",
       "</div>"
      ],
      "text/plain": [
       "        y_true  my  rfc  lgbc  my_is_true  rfc_is_true  lgbc_is_true\n",
       "id                                                                  \n",
       "682721       0   1    1     1       False        False         False\n",
       "470979       1   1    1     1        True         True          True\n",
       "394613       1   1    1     1        True         True          True\n",
       "329967       0   0    0     0        True         True          True\n",
       "711757       0   0    0     0        True         True          True\n",
       "...        ...  ..  ...   ...         ...          ...           ...\n",
       "443252       1   1    1     1        True         True          True\n",
       "169305       0   1    1     1       False        False         False\n",
       "953987       0   0    0     0        True         True          True\n",
       "739397       1   1    1     1        True         True          True\n",
       "829320       1   1    1     1        True         True          True\n",
       "\n",
       "[316114 rows x 7 columns]"
      ]
     },
     "execution_count": 74,
     "metadata": {},
     "output_type": "execute_result"
    }
   ],
   "source": [
    "predicts = pd.DataFrame({\"y_true\": y_test, \"my\": my_clf_y_pred, \"rfc\": y_rfc_pred, \"lgbc\": y_lgbc_pred})\n",
    "columns = list(predicts)\n",
    "for col in columns[1:]:\n",
    "    predicts[f\"{col}_is_true\"] = predicts[\"y_true\"] == predicts[col]\n",
    "predicts"
   ]
  },
  {
   "cell_type": "code",
   "execution_count": 78,
   "metadata": {},
   "outputs": [
    {
     "data": {
      "text/html": [
       "<div>\n",
       "<style scoped>\n",
       "    .dataframe tbody tr th:only-of-type {\n",
       "        vertical-align: middle;\n",
       "    }\n",
       "\n",
       "    .dataframe tbody tr th {\n",
       "        vertical-align: top;\n",
       "    }\n",
       "\n",
       "    .dataframe thead th {\n",
       "        text-align: right;\n",
       "    }\n",
       "</style>\n",
       "<table border=\"1\" class=\"dataframe\">\n",
       "  <thead>\n",
       "    <tr style=\"text-align: right;\">\n",
       "      <th></th>\n",
       "      <th>y_true</th>\n",
       "      <th>my</th>\n",
       "      <th>rfc</th>\n",
       "      <th>lgbc</th>\n",
       "      <th>my_is_true</th>\n",
       "      <th>rfc_is_true</th>\n",
       "      <th>lgbc_is_true</th>\n",
       "    </tr>\n",
       "    <tr>\n",
       "      <th>id</th>\n",
       "      <th></th>\n",
       "      <th></th>\n",
       "      <th></th>\n",
       "      <th></th>\n",
       "      <th></th>\n",
       "      <th></th>\n",
       "      <th></th>\n",
       "    </tr>\n",
       "  </thead>\n",
       "  <tbody>\n",
       "    <tr>\n",
       "      <th>153665</th>\n",
       "      <td>1</td>\n",
       "      <td>0</td>\n",
       "      <td>1</td>\n",
       "      <td>1</td>\n",
       "      <td>False</td>\n",
       "      <td>True</td>\n",
       "      <td>True</td>\n",
       "    </tr>\n",
       "    <tr>\n",
       "      <th>586692</th>\n",
       "      <td>1</td>\n",
       "      <td>0</td>\n",
       "      <td>1</td>\n",
       "      <td>1</td>\n",
       "      <td>False</td>\n",
       "      <td>True</td>\n",
       "      <td>True</td>\n",
       "    </tr>\n",
       "    <tr>\n",
       "      <th>202698</th>\n",
       "      <td>1</td>\n",
       "      <td>0</td>\n",
       "      <td>1</td>\n",
       "      <td>1</td>\n",
       "      <td>False</td>\n",
       "      <td>True</td>\n",
       "      <td>True</td>\n",
       "    </tr>\n",
       "    <tr>\n",
       "      <th>132062</th>\n",
       "      <td>1</td>\n",
       "      <td>0</td>\n",
       "      <td>1</td>\n",
       "      <td>1</td>\n",
       "      <td>False</td>\n",
       "      <td>True</td>\n",
       "      <td>True</td>\n",
       "    </tr>\n",
       "    <tr>\n",
       "      <th>49123</th>\n",
       "      <td>1</td>\n",
       "      <td>0</td>\n",
       "      <td>1</td>\n",
       "      <td>1</td>\n",
       "      <td>False</td>\n",
       "      <td>True</td>\n",
       "      <td>True</td>\n",
       "    </tr>\n",
       "    <tr>\n",
       "      <th>...</th>\n",
       "      <td>...</td>\n",
       "      <td>...</td>\n",
       "      <td>...</td>\n",
       "      <td>...</td>\n",
       "      <td>...</td>\n",
       "      <td>...</td>\n",
       "      <td>...</td>\n",
       "    </tr>\n",
       "    <tr>\n",
       "      <th>121586</th>\n",
       "      <td>1</td>\n",
       "      <td>0</td>\n",
       "      <td>1</td>\n",
       "      <td>1</td>\n",
       "      <td>False</td>\n",
       "      <td>True</td>\n",
       "      <td>True</td>\n",
       "    </tr>\n",
       "    <tr>\n",
       "      <th>350049</th>\n",
       "      <td>1</td>\n",
       "      <td>0</td>\n",
       "      <td>1</td>\n",
       "      <td>1</td>\n",
       "      <td>False</td>\n",
       "      <td>True</td>\n",
       "      <td>True</td>\n",
       "    </tr>\n",
       "    <tr>\n",
       "      <th>449272</th>\n",
       "      <td>1</td>\n",
       "      <td>0</td>\n",
       "      <td>1</td>\n",
       "      <td>1</td>\n",
       "      <td>False</td>\n",
       "      <td>True</td>\n",
       "      <td>True</td>\n",
       "    </tr>\n",
       "    <tr>\n",
       "      <th>167350</th>\n",
       "      <td>1</td>\n",
       "      <td>0</td>\n",
       "      <td>1</td>\n",
       "      <td>1</td>\n",
       "      <td>False</td>\n",
       "      <td>True</td>\n",
       "      <td>True</td>\n",
       "    </tr>\n",
       "    <tr>\n",
       "      <th>314087</th>\n",
       "      <td>1</td>\n",
       "      <td>0</td>\n",
       "      <td>1</td>\n",
       "      <td>1</td>\n",
       "      <td>False</td>\n",
       "      <td>True</td>\n",
       "      <td>True</td>\n",
       "    </tr>\n",
       "  </tbody>\n",
       "</table>\n",
       "<p>1116 rows × 7 columns</p>\n",
       "</div>"
      ],
      "text/plain": [
       "        y_true  my  rfc  lgbc  my_is_true  rfc_is_true  lgbc_is_true\n",
       "id                                                                  \n",
       "153665       1   0    1     1       False         True          True\n",
       "586692       1   0    1     1       False         True          True\n",
       "202698       1   0    1     1       False         True          True\n",
       "132062       1   0    1     1       False         True          True\n",
       "49123        1   0    1     1       False         True          True\n",
       "...        ...  ..  ...   ...         ...          ...           ...\n",
       "121586       1   0    1     1       False         True          True\n",
       "350049       1   0    1     1       False         True          True\n",
       "449272       1   0    1     1       False         True          True\n",
       "167350       1   0    1     1       False         True          True\n",
       "314087       1   0    1     1       False         True          True\n",
       "\n",
       "[1116 rows x 7 columns]"
      ]
     },
     "execution_count": 78,
     "metadata": {},
     "output_type": "execute_result"
    }
   ],
   "source": [
    "predicts[~predicts[\"my_is_true\"] & predicts[[\"rfc_is_true\", \"lgbc_is_true\"]].any(axis=1)]"
   ]
  },
  {
   "cell_type": "code",
   "execution_count": 83,
   "metadata": {},
   "outputs": [
    {
     "data": {
      "text/html": [
       "<div>\n",
       "<style scoped>\n",
       "    .dataframe tbody tr th:only-of-type {\n",
       "        vertical-align: middle;\n",
       "    }\n",
       "\n",
       "    .dataframe tbody tr th {\n",
       "        vertical-align: top;\n",
       "    }\n",
       "\n",
       "    .dataframe thead th {\n",
       "        text-align: right;\n",
       "    }\n",
       "</style>\n",
       "<table border=\"1\" class=\"dataframe\">\n",
       "  <thead>\n",
       "    <tr style=\"text-align: right;\">\n",
       "      <th></th>\n",
       "      <th>y_true</th>\n",
       "      <th>my</th>\n",
       "      <th>rfc</th>\n",
       "      <th>lgbc</th>\n",
       "      <th>my_is_true</th>\n",
       "      <th>rfc_is_true</th>\n",
       "      <th>lgbc_is_true</th>\n",
       "    </tr>\n",
       "    <tr>\n",
       "      <th>id</th>\n",
       "      <th></th>\n",
       "      <th></th>\n",
       "      <th></th>\n",
       "      <th></th>\n",
       "      <th></th>\n",
       "      <th></th>\n",
       "      <th></th>\n",
       "    </tr>\n",
       "  </thead>\n",
       "  <tbody>\n",
       "    <tr>\n",
       "      <th>896669</th>\n",
       "      <td>0</td>\n",
       "      <td>0</td>\n",
       "      <td>1</td>\n",
       "      <td>1</td>\n",
       "      <td>True</td>\n",
       "      <td>False</td>\n",
       "      <td>False</td>\n",
       "    </tr>\n",
       "    <tr>\n",
       "      <th>556921</th>\n",
       "      <td>0</td>\n",
       "      <td>0</td>\n",
       "      <td>1</td>\n",
       "      <td>1</td>\n",
       "      <td>True</td>\n",
       "      <td>False</td>\n",
       "      <td>False</td>\n",
       "    </tr>\n",
       "    <tr>\n",
       "      <th>203078</th>\n",
       "      <td>0</td>\n",
       "      <td>0</td>\n",
       "      <td>1</td>\n",
       "      <td>1</td>\n",
       "      <td>True</td>\n",
       "      <td>False</td>\n",
       "      <td>False</td>\n",
       "    </tr>\n",
       "    <tr>\n",
       "      <th>496296</th>\n",
       "      <td>0</td>\n",
       "      <td>0</td>\n",
       "      <td>1</td>\n",
       "      <td>1</td>\n",
       "      <td>True</td>\n",
       "      <td>False</td>\n",
       "      <td>False</td>\n",
       "    </tr>\n",
       "    <tr>\n",
       "      <th>878289</th>\n",
       "      <td>0</td>\n",
       "      <td>0</td>\n",
       "      <td>1</td>\n",
       "      <td>1</td>\n",
       "      <td>True</td>\n",
       "      <td>False</td>\n",
       "      <td>False</td>\n",
       "    </tr>\n",
       "    <tr>\n",
       "      <th>...</th>\n",
       "      <td>...</td>\n",
       "      <td>...</td>\n",
       "      <td>...</td>\n",
       "      <td>...</td>\n",
       "      <td>...</td>\n",
       "      <td>...</td>\n",
       "      <td>...</td>\n",
       "    </tr>\n",
       "    <tr>\n",
       "      <th>442779</th>\n",
       "      <td>0</td>\n",
       "      <td>0</td>\n",
       "      <td>1</td>\n",
       "      <td>1</td>\n",
       "      <td>True</td>\n",
       "      <td>False</td>\n",
       "      <td>False</td>\n",
       "    </tr>\n",
       "    <tr>\n",
       "      <th>518783</th>\n",
       "      <td>0</td>\n",
       "      <td>0</td>\n",
       "      <td>1</td>\n",
       "      <td>1</td>\n",
       "      <td>True</td>\n",
       "      <td>False</td>\n",
       "      <td>False</td>\n",
       "    </tr>\n",
       "    <tr>\n",
       "      <th>944004</th>\n",
       "      <td>0</td>\n",
       "      <td>0</td>\n",
       "      <td>1</td>\n",
       "      <td>1</td>\n",
       "      <td>True</td>\n",
       "      <td>False</td>\n",
       "      <td>False</td>\n",
       "    </tr>\n",
       "    <tr>\n",
       "      <th>898325</th>\n",
       "      <td>0</td>\n",
       "      <td>0</td>\n",
       "      <td>1</td>\n",
       "      <td>1</td>\n",
       "      <td>True</td>\n",
       "      <td>False</td>\n",
       "      <td>False</td>\n",
       "    </tr>\n",
       "    <tr>\n",
       "      <th>710873</th>\n",
       "      <td>0</td>\n",
       "      <td>0</td>\n",
       "      <td>1</td>\n",
       "      <td>1</td>\n",
       "      <td>True</td>\n",
       "      <td>False</td>\n",
       "      <td>False</td>\n",
       "    </tr>\n",
       "  </tbody>\n",
       "</table>\n",
       "<p>904 rows × 7 columns</p>\n",
       "</div>"
      ],
      "text/plain": [
       "        y_true  my  rfc  lgbc  my_is_true  rfc_is_true  lgbc_is_true\n",
       "id                                                                  \n",
       "896669       0   0    1     1        True        False         False\n",
       "556921       0   0    1     1        True        False         False\n",
       "203078       0   0    1     1        True        False         False\n",
       "496296       0   0    1     1        True        False         False\n",
       "878289       0   0    1     1        True        False         False\n",
       "...        ...  ..  ...   ...         ...          ...           ...\n",
       "442779       0   0    1     1        True        False         False\n",
       "518783       0   0    1     1        True        False         False\n",
       "944004       0   0    1     1        True        False         False\n",
       "898325       0   0    1     1        True        False         False\n",
       "710873       0   0    1     1        True        False         False\n",
       "\n",
       "[904 rows x 7 columns]"
      ]
     },
     "execution_count": 83,
     "metadata": {},
     "output_type": "execute_result"
    }
   ],
   "source": [
    "predicts[~predicts[\"rfc_is_true\"] & predicts[[\"my_is_true\", \"lgbc_is_true\"]].any(axis=1)]"
   ]
  },
  {
   "cell_type": "markdown",
   "metadata": {},
   "source": [
    "# The best combination of models is MyRandomClassifier with LBCClassifier\n",
    "## (on private with 0.77241 score)"
   ]
  },
  {
   "cell_type": "markdown",
   "metadata": {},
   "source": [
    "### Because when MyRandomClassifier make a mistake, LBCClassifier predict right"
   ]
  },
  {
   "cell_type": "code",
   "execution_count": null,
   "metadata": {},
   "outputs": [],
   "source": []
  }
 ],
 "metadata": {
  "colab": {
   "collapsed_sections": [],
   "name": "hw1.ipynb",
   "provenance": []
  },
  "kernelspec": {
   "display_name": "Python 3",
   "language": "python",
   "name": "python3"
  },
  "language_info": {
   "codemirror_mode": {
    "name": "ipython",
    "version": 3
   },
   "file_extension": ".py",
   "mimetype": "text/x-python",
   "name": "python",
   "nbconvert_exporter": "python",
   "pygments_lexer": "ipython3",
   "version": "3.7.6"
  }
 },
 "nbformat": 4,
 "nbformat_minor": 4
}
